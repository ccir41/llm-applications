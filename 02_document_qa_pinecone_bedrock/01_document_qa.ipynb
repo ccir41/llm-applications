{
 "cells": [
  {
   "cell_type": "code",
   "execution_count": 1,
   "id": "59c16cf9-ad52-4e70-913d-4a0a1affaaa8",
   "metadata": {},
   "outputs": [
    {
     "name": "stderr",
     "output_type": "stream",
     "text": [
      "/home/shishir/llm-applications/venv/lib/python3.11/site-packages/pinecone/index.py:4: TqdmWarning: IProgress not found. Please update jupyter and ipywidgets. See https://ipywidgets.readthedocs.io/en/stable/user_install.html\n",
      "  from tqdm.autonotebook import tqdm\n"
     ]
    }
   ],
   "source": [
    "import os\n",
    "import re\n",
    "import time\n",
    "import hashlib\n",
    "\n",
    "import tqdm\n",
    "import boto3\n",
    "import pandas as pd\n",
    "import pinecone\n",
    "\n",
    "from typing import List\n",
    "\n",
    "from langchain.text_splitter import CharacterTextSplitter\n",
    "from langchain.docstore.document import Document\n",
    "\n",
    "from langchain.prompts import PromptTemplate\n",
    "from langchain.embeddings import BedrockEmbeddings\n",
    "from langchain.llms.bedrock import Bedrock\n",
    "\n",
    "from langchain.output_parsers import PydanticOutputParser\n",
    "from langchain.pydantic_v1 import BaseModel, Field\n",
    "\n",
    "from langchain.vectorstores.pinecone import Pinecone\n",
    "from langchain_community.document_loaders import UnstructuredPDFLoader"
   ]
  },
  {
   "cell_type": "code",
   "execution_count": 2,
   "id": "e10597c0-cb56-464a-a7b5-8c114a5b6868",
   "metadata": {},
   "outputs": [],
   "source": [
    "## make sure you exported these environement variables\n",
    "\n",
    "PINECONE_API_KEY = os.environ.get(\"PINECONE_API_KEY\")\n",
    "PINECONE_ENV = os.environ.get(\"PINECONE_ENV\")"
   ]
  },
  {
   "cell_type": "code",
   "execution_count": 3,
   "id": "8461201a-2409-4e9a-8932-a884a53c8f9a",
   "metadata": {},
   "outputs": [],
   "source": [
    "profile_name = 'genese-llm-acc'\n",
    "bedrock_region = 'us-west-2'\n",
    "\n",
    "session = boto3.Session(profile_name=profile_name)\n",
    "bedrock = session.client('bedrock-runtime' , bedrock_region, endpoint_url=f'https://bedrock.{bedrock_region}.amazonaws.com')\n",
    "model_kwargs = {\n",
    "    \"max_tokens_to_sample\": 4096,\n",
    "    \"temperature\": 0,\n",
    "    \"top_k\": 250,\n",
    "    \"top_p\": 1,\n",
    "    \"stop_sequences\": [\"\\n\\nHuman\"],\n",
    "}\n",
    "llm = Bedrock(model_id=\"anthropic.claude-v2\", client=bedrock, model_kwargs=model_kwargs)\n",
    "embeddings = BedrockEmbeddings(client=bedrock)"
   ]
  },
  {
   "cell_type": "code",
   "execution_count": 4,
   "id": "108ad853-3b6b-4520-ba4f-ed85c28775cf",
   "metadata": {},
   "outputs": [],
   "source": [
    "# initialize pinecone\n",
    "\n",
    "pinecone.init(\n",
    "    api_key=PINECONE_API_KEY,\n",
    "    environment=PINECONE_ENV\n",
    ")"
   ]
  },
  {
   "cell_type": "code",
   "execution_count": 5,
   "id": "85aebfc8-72a5-48ff-91f7-86a25c4500a4",
   "metadata": {},
   "outputs": [],
   "source": [
    "index_name = \"llm-application\""
   ]
  },
  {
   "cell_type": "code",
   "execution_count": 6,
   "id": "6ad94ab4-31e8-468d-ae67-57a56e31f0a8",
   "metadata": {},
   "outputs": [],
   "source": [
    "if index_name not in pinecone.list_indexes():\n",
    "    pinecone.create_index(\n",
    "        index_name, \n",
    "        dimension=1536,\n",
    "        metric='cosine'\n",
    "    )"
   ]
  },
  {
   "cell_type": "code",
   "execution_count": 7,
   "id": "f4aef468-4ab1-4812-9ee7-560a661d7965",
   "metadata": {},
   "outputs": [
    {
     "data": {
      "text/plain": [
       "['llm-application']"
      ]
     },
     "execution_count": 7,
     "metadata": {},
     "output_type": "execute_result"
    }
   ],
   "source": [
    "# Confirm we indeed created our index\n",
    "pinecone.list_indexes()"
   ]
  },
  {
   "cell_type": "code",
   "execution_count": 8,
   "id": "aa192d64-6d99-4ea5-8d5d-40657fbb45e6",
   "metadata": {},
   "outputs": [
    {
     "data": {
      "text/plain": [
       "{'dimension': 1536,\n",
       " 'index_fullness': 0.00035,\n",
       " 'namespaces': {'qa_chunks_vs': {'vector_count': 35}},\n",
       " 'total_vector_count': 35}"
      ]
     },
     "execution_count": 8,
     "metadata": {},
     "output_type": "execute_result"
    }
   ],
   "source": [
    "index = pinecone.Index(index_name)\n",
    "index.describe_index_stats()"
   ]
  },
  {
   "cell_type": "code",
   "execution_count": 9,
   "id": "099bdd05-7ac5-465b-a51a-edacf2f7253f",
   "metadata": {},
   "outputs": [],
   "source": [
    "## to make hash of content as make it as id so that we don't have duplicate entries in the vector database\n",
    "def calculate_md5(text):\n",
    "    md5_hash = hashlib.md5()\n",
    "    md5_hash.update(text.encode('utf-8'))\n",
    "    md5_hexdigest = md5_hash.hexdigest()\n",
    "    return md5_hexdigest"
   ]
  },
  {
   "cell_type": "code",
   "execution_count": 10,
   "id": "54d825c5-b8d5-4b57-92f3-e59c6da62c72",
   "metadata": {},
   "outputs": [],
   "source": [
    "def get_pinecone_vectorstore(index, embeddings, text_key=\"text\", namespace=None):\n",
    "    vectorstore = Pinecone(index, embeddings, text_key, namespace)\n",
    "    return vectorstore"
   ]
  },
  {
   "cell_type": "code",
   "execution_count": 11,
   "id": "c6b21103-a7c7-4cc2-9ab9-2c42581269d9",
   "metadata": {},
   "outputs": [],
   "source": [
    "def pinecone_upsert(vectorstore, texts, metadatas=None, ids=None):\n",
    "    return vectorstore.add_texts(texts, metadatas=metadatas, ids=ids)"
   ]
  },
  {
   "cell_type": "code",
   "execution_count": 12,
   "id": "ac3684e7-65c2-43e1-80c7-a4cb3ac681c0",
   "metadata": {},
   "outputs": [],
   "source": [
    "def pinecone_similarity_search(vectorstore, query, filter={}, k=4):\n",
    "    docs = vectorstore.similarity_search(\n",
    "        query,\n",
    "        k=k,\n",
    "        filter=filter\n",
    "    )\n",
    "    return docs"
   ]
  },
  {
   "cell_type": "code",
   "execution_count": 13,
   "id": "19d9bd56-948b-4e07-9977-1c373c2ce996",
   "metadata": {},
   "outputs": [],
   "source": [
    "# get vector store\n",
    "pinecone_vs = get_pinecone_vectorstore(index, embeddings, text_key=\"text\", namespace=\"qa_chunks_vs\")"
   ]
  },
  {
   "cell_type": "code",
   "execution_count": 14,
   "id": "9cd1fb63-142d-48a3-8488-1bac59e5bb29",
   "metadata": {},
   "outputs": [],
   "source": [
    "def get_cleaned_page_content(page_content):\n",
    "    ## remove url patterns\n",
    "    url_pattern = re.compile(r'https?://\\S+|www\\.\\S+')\n",
    "    page_content = url_pattern.sub('', page_content)\n",
    "    \n",
    "    try:\n",
    "        social_pattern = r'Facebook \\d+\\n\\n'\n",
    "        result = re.split(social_pattern, page_content)\n",
    "        page_content = result[0]\n",
    "    except:\n",
    "        pass\n",
    "    return page_content"
   ]
  },
  {
   "cell_type": "code",
   "execution_count": 15,
   "id": "38f6ab3d-c3ca-40a7-ac86-9dc4c8f72c5d",
   "metadata": {},
   "outputs": [],
   "source": [
    "def make_document(docs):\n",
    "    cleaned_page_content = get_cleaned_page_content(docs[0].page_content)\n",
    "    doc = Document(page_content=cleaned_page_content, metadata=docs[0].metadata)\n",
    "    return doc"
   ]
  },
  {
   "cell_type": "code",
   "execution_count": 16,
   "id": "0565c0b0-d2e3-4475-9dae-7427a14494f9",
   "metadata": {},
   "outputs": [],
   "source": [
    "def get_pdf_paths(pdf_directory):\n",
    "    pdf_paths = []\n",
    "    for root, dirs, files in os.walk(pdf_directory):\n",
    "        for file in files:\n",
    "            if file.endswith(\".pdf\"):\n",
    "                pdf_path = os.path.join(root, file)\n",
    "                pdf_path = pdf_path.replace('\\\\', '/')\n",
    "                pdf_paths.append(pdf_path)\n",
    "    return pdf_paths"
   ]
  },
  {
   "cell_type": "code",
   "execution_count": 17,
   "id": "0ae9c18a-f90c-43ec-8705-ebf44ed0ed44",
   "metadata": {},
   "outputs": [
    {
     "data": {
      "text/plain": [
       "['./docs/Why Is Email Marketing Still Relevant in 2023_.pdf',\n",
       " './docs/The Critical Significance of Cloud Security and Cybersecurity in Nepal.pdf',\n",
       " './docs/Unveiling the Future_ Top Cloud Computing Trends Shaping 2024 and Beyond.pdf',\n",
       " './docs/Which Zoom Security Features Are Best for Your Industry_.pdf',\n",
       " './docs/Unlocking the Power of Cloud Computing_ Impactful Uses Across Industries.pdf',\n",
       " './docs/Boost Your Business Security with Cloud-Based Security as a Service (SECaaS).pdf',\n",
       " './docs/What is Business Intelligence (BI)_.pdf',\n",
       " './docs/6 Reasons to choose Zoho Workplace.pdf',\n",
       " './docs/Importance of Quality Assurance for Your Business.pdf']"
      ]
     },
     "execution_count": 17,
     "metadata": {},
     "output_type": "execute_result"
    }
   ],
   "source": [
    "pdf_paths = get_pdf_paths('./docs')\n",
    "pdf_paths"
   ]
  },
  {
   "cell_type": "code",
   "execution_count": 18,
   "id": "e1b9581d-3726-4fbd-a414-a677850e0dd8",
   "metadata": {},
   "outputs": [],
   "source": [
    "documents = []\n",
    "\n",
    "for pdf_path in pdf_paths:\n",
    "    loader = UnstructuredPDFLoader(pdf_path)\n",
    "    docs = loader.load()\n",
    "    documents.append(docs)"
   ]
  },
  {
   "cell_type": "code",
   "execution_count": 19,
   "id": "94b3d2cb-c7d3-47ae-96e5-6613532a92be",
   "metadata": {},
   "outputs": [],
   "source": [
    "new_documents = list(map(make_document, documents))"
   ]
  },
  {
   "cell_type": "code",
   "execution_count": 20,
   "id": "e5a324c0-9b3a-43aa-a1e7-b9d9ddd8b9cd",
   "metadata": {},
   "outputs": [
    {
     "data": {
      "text/plain": [
       "9"
      ]
     },
     "execution_count": 20,
     "metadata": {},
     "output_type": "execute_result"
    }
   ],
   "source": [
    "len(new_documents)"
   ]
  },
  {
   "cell_type": "code",
   "execution_count": 21,
   "id": "ee467126-7750-43db-8e8e-b96fbd0a9004",
   "metadata": {},
   "outputs": [
    {
     "data": {
      "text/plain": [
       "'1/4/24, 8:17 AM\\n\\nWhy Is Email Marketing Still Relevant in 2023?\\n\\nInternational 3\\n\\n\\ue093\\ue093 \\ue094\\ue094 \\ue09d\\ue09d \\ue09a\\ue09a\\n\\naa\\n\\n\\uf0e0 Contact us\\n\\nWhy Is Email Marketing Still Relevant in 2023?\\n\\nby sakar | Apr 25, 2023 | Email Marketing | 0 comments\\n\\nEmail marketing is a popular and reliable marketing method for businesses due to\\n\\nits stability, a\\x00ordability, and control. Since email marketing is an owned media\\n\\nchannel, marketers have greater control over the messaging and reach of their\\n\\ncampaigns.\\n\\nAlthough trendy marketing t'"
      ]
     },
     "execution_count": 21,
     "metadata": {},
     "output_type": "execute_result"
    }
   ],
   "source": [
    "new_documents[0].page_content[:500]"
   ]
  },
  {
   "cell_type": "code",
   "execution_count": 22,
   "id": "b3fa32b3-bbe5-461e-8581-82988b457182",
   "metadata": {},
   "outputs": [],
   "source": [
    "text_splitter = CharacterTextSplitter(\n",
    "    separator=\"\\n\\n\",\n",
    "    chunk_size=2048,\n",
    "    chunk_overlap=250,\n",
    "    length_function=len,\n",
    "    is_separator_regex=False\n",
    ")"
   ]
  },
  {
   "cell_type": "code",
   "execution_count": null,
   "id": "187d69f2-6fd4-448b-8dc9-524f8b85f8d2",
   "metadata": {},
   "outputs": [],
   "source": []
  },
  {
   "cell_type": "code",
   "execution_count": 23,
   "id": "849c6c61-fe40-496b-9b07-cc20da0dcadf",
   "metadata": {},
   "outputs": [
    {
     "name": "stderr",
     "output_type": "stream",
     "text": [
      "100%|█████████████████████████████████████████████████████████████████████████████████████████████████████████████████████████| 9/9 [00:56<00:00,  6.25s/it]\n"
     ]
    }
   ],
   "source": [
    "for doc in tqdm.tqdm(new_documents):\n",
    "    text_chunks = text_splitter.split_text(doc.page_content)\n",
    "    chunk_ids = [calculate_md5(text_chunk) for text_chunk in text_chunks]\n",
    "    chunk_metadatas = [{\"chunk\": index, \"source\": doc.metadata[\"source\"]} for index in range(len(text_chunks))]\n",
    "    pinecone_upsert(pinecone_vs, text_chunks, metadatas=chunk_metadatas, ids=chunk_ids)\n",
    "    time.sleep(1)"
   ]
  },
  {
   "cell_type": "code",
   "execution_count": 24,
   "id": "288adace-8eb3-4c99-9be9-2a58cc84806d",
   "metadata": {},
   "outputs": [
    {
     "data": {
      "text/plain": [
       "{'dimension': 1536,\n",
       " 'index_fullness': 0.00035,\n",
       " 'namespaces': {'qa_chunks_vs': {'vector_count': 35}},\n",
       " 'total_vector_count': 35}"
      ]
     },
     "execution_count": 24,
     "metadata": {},
     "output_type": "execute_result"
    }
   ],
   "source": [
    "index = pinecone.Index(index_name)\n",
    "index.describe_index_stats()"
   ]
  },
  {
   "cell_type": "code",
   "execution_count": 25,
   "id": "7caa38f7-ff37-4e68-a3b3-d251581fd701",
   "metadata": {},
   "outputs": [
    {
     "data": {
      "text/plain": [
       "[Document(page_content='conversions, click-through rates, and the ratio of unsubscribes to subscriptions.\\n\\n8. Curated Content: In 2023, the vast amount of content available online makes it\\n\\nchallenging for businesses to grab people’s attention, and it can be challenging to\\n\\nkeep up with the volume of content creation. Curated content is an e\\x00cient way to\\n\\nstand out in this noisy digital world by collecting existing information and\\n\\npresenting it in a meaningful way. Email marketing is an ideal channel for sharing\\n\\ncurated content as it allows businesses to feature blog posts, industry news, third-\\n\\nparty research, videos, and podcasts, which can improve brand authority and\\n\\neducate the audience on topics relevant to the business. Since email marketing\\n\\nallows for more long-form content than other marketing channels, businesses have\\n\\na better opportunity to delve deeper into the curated content.\\n\\n9. Automation & AI: AI has become a valuable tool for marketers in recent years,\\n\\nespecially in email marketing.\\n\\nIt can help with tasks such as organizing email lists, personalizing content to target\\n\\nspeciﬁc audiences, and even writing emails. Popular email automation platforms\\n\\n5/10\\n\\n1/4/24, 8:17 AM\\n\\nWhy Is Email Marketing Still Relevant in 2023?\\n\\nsuch as MailChimp o\\x00er AI-powered software at little to no cost, allowing\\n\\nbusinesses to save time on email marketing tasks that would otherwise take up\\n\\nvaluable resources. Automation also allows for better optimization of campaigns,\\n\\nenabling businesses to achieve better return on investment (ROI) within their\\n\\nbudget constraints.\\n\\nIn conclusion, email marketing remains a popular and reliable marketing method\\n\\ndue to its a\\x00ordability, stability, and control, with over 4 billion daily users. Email\\n\\nmarketing’s e\\x00ectiveness is boosted by trends such as mobile optimization, social\\n\\nresponsibility, sales and marketing alignment, inbound marketing, focus on\\n\\ncustomer service, interactive content, tighter privacy laws, and curated content. In', metadata={'chunk': 4.0, 'source': './docs/Why Is Email Marketing Still Relevant in 2023_.pdf'}),\n",
       " Document(page_content='launches, limited-time o\\x00ers, and birthday messages. Dynamic emails and\\n\\nretargeting emails can take personalized communication to the next level,\\n\\naddressing customers directly and resolving any issues quickly to make them feel\\n\\nvalued.\\n\\n6. Interactive Content: As the digital landscape evolves, businesses are turning to\\n\\naugmented reality (AR), virtual reality (VR), and digital games to create interactive\\n\\nexperiences for consumers. However, there are also opportunities to incorporate\\n\\ninteractivity into email marketing. A majority of consumers, 91%, now prefer\\n\\ninteractive content in emails, yet few businesses are providing it. Incorporating\\n\\ninteractive elements in emails can di\\x00erentiate your brand from competitors and\\n\\nincrease engagement and website tra\\x00c. Strategies could include embedding\\n\\npodcast episodes or video marketing content, adding buttons for related content,\\n\\nor using interactive images and infographics to showcase curated content.\\n\\n7. Tighter Privacy Laws for Customers: Due to the increase of personal data being\\n\\nuploaded online, data privacy has become a more important issue. Recently,\\n\\nApple’s mail privacy iOS update has given customers more control and privacy by\\n\\nallowing them to hide their IP and email addresses and prevent companies from\\n\\n4/10\\n\\n1/4/24, 8:17 AM\\n\\nWhy Is Email Marketing Still Relevant in 2023?\\n\\ntracking email open rates. As privacy features become more popular, customers\\n\\nare more trusting of and accepting of email as a marketing method compared to\\n\\nsocial media and banner ads, with a di\\x00erence of up to 108%. Although the iOS\\n\\nupdate a\\x00ects the ability to track open rates, there are still other ways to measure\\n\\nthe success of email marketing campaigns, such as website tra\\x00c and\\n\\nconversions, click-through rates, and the ratio of unsubscribes to subscriptions.\\n\\n8. Curated Content: In 2023, the vast amount of content available online makes it\\n\\nchallenging for businesses to grab people’s attention, and it can be challenging to', metadata={'chunk': 3.0, 'source': './docs/Why Is Email Marketing Still Relevant in 2023_.pdf'})]"
      ]
     },
     "execution_count": 25,
     "metadata": {},
     "output_type": "execute_result"
    }
   ],
   "source": [
    "# question = \"Why is mobile optimization considered crucial for email marketing success?\"\n",
    "# question = \"Why is it mentioned that customers prefer email over other forms of communication?\"\n",
    "question = \"In what ways does AI contribute to the effectiveness of email marketing campaigns?\"\n",
    "sim_docs = pinecone_similarity_search(pinecone_vs, question, k=2)\n",
    "sim_docs"
   ]
  },
  {
   "cell_type": "code",
   "execution_count": null,
   "id": "e2cf26e9-4b30-4534-82f2-f2683fe0f3d1",
   "metadata": {},
   "outputs": [],
   "source": []
  },
  {
   "cell_type": "code",
   "execution_count": 26,
   "id": "5fc7ff0b-72e8-48d2-b06a-28079a16da5f",
   "metadata": {},
   "outputs": [
    {
     "data": {
      "text/plain": [
       "[Document(page_content='prompt detection and response to potential threats, thereby reducing the impact\\n\\nof security incidents.\\n\\n7. Scalability for Growing Businesses in Nepal:\\n\\nCloud security solutions in Nepal are scalable, allowing them to grow with your\\n\\nbusiness. As you expand your operations and data storage, these security\\n\\nmeasures adapt to the evolving landscape, ensuring consistent protection.\\n\\nConclusion\\n\\nIn an era where businesses in Nepal increasingly rely on cloud technology,\\n\\ninvesting in cloud security and cybersecurity is not just a choice but an imperative.\\n\\nThe ramiﬁcations of a security breach can be catastrophic, encompassing\\n\\n3/7\\n\\n1/4/24, 8:11 AM\\n\\nThe Critical Significance of Cloud Security and Cybersecurity in Nepal\\n\\nﬁnancial losses and damage to reputation. By giving paramount importance to\\n\\ncloud security in Nepal, businesses can protect their digital assets, ensure\\n\\ncompliance with regulations, and maintain the trust of customers and partners.\\n\\nIt is crucial to remember that cloud security in Nepal is an ongoing process,\\n\\nnecessitating proactive measures, regular updates, and continuous monitoring to\\n\\nstay ahead of evolving threats. Collaboration with reputable cloud service\\n\\nproviders and security experts is essential for developing a robust defense strategy\\n\\nthat aligns with your business requirements. Ultimately, a well-implemented cloud\\n\\nsecurity plan empowers organizations in Nepal to harness the full potential of the\\n\\ncloud while keeping their data secure and intact.\\n\\n\\ue63f', metadata={'chunk': 2.0, 'source': './docs/The Critical Significance of Cloud Security and Cybersecurity in Nepal.pdf'}),\n",
       " Document(page_content='2. Mitigating Cyber Threats in Nepal:\\n\\nWith the proliferation of cyber threats that are increasingly sophisticated, cloud\\n\\nsecurity provides essential defense mechanisms against threats like ransomware,\\n\\nmalware, and phishing attacks in Nepal. Inadequate protection can lead to severe\\n\\nﬁnancial losses and damage to a company’s reputation.\\n\\n3. Ensuring Uninterrupted Operations in Nepal:\\n\\n2/7\\n\\n1/4/24, 8:11 AM\\n\\nThe Critical Significance of Cloud Security and Cybersecurity in Nepal\\n\\nDowntime can prove costly for any organization in Nepal. Cloud security solutions\\n\\noften include redundancy and disaster recovery options, guaranteeing the\\n\\naccessibility of data and applications even in the face of unforeseen events. This is\\n\\nvital for maintaining business continuity and minimizing disruptions in Nepal.\\n\\n4. Meeting Compliance Requirements in Nepal:\\n\\nMany industries in Nepal are bound by stringent regulatory requirements\\n\\nconcerning data privacy and security. Non-compliance can result in substantial\\n\\nﬁnes and legal repercussions. Cloud security measures are instrumental in helping\\n\\nbusinesses in Nepal meet these regulatory obligations, thus reducing the risk of\\n\\nlegal consequences.\\n\\n5. Robust Data Encryption in Nepal:\\n\\nCloud security in Nepal involves robust encryption techniques that protect data\\n\\nboth during transit and at rest. This ensures that even if data is intercepted, it\\n\\nremains indecipherable and secure. Encryption constitutes a fundamental\\n\\ncomponent of cloud security in Nepal, adding an additional layer of protection.\\n\\n6. Real-time Monitoring and Enhanced Visibility in Nepal:\\n\\nE\\x00ective cloud security solutions in Nepal o\\x00er real-time monitoring and\\n\\nenhanced visibility into your cloud environment. This capability enables the\\n\\nprompt detection and response to potential threats, thereby reducing the impact\\n\\nof security incidents.\\n\\n7. Scalability for Growing Businesses in Nepal:\\n\\nCloud security solutions in Nepal are scalable, allowing them to grow with your', metadata={'chunk': 1.0, 'source': './docs/The Critical Significance of Cloud Security and Cybersecurity in Nepal.pdf'})]"
      ]
     },
     "execution_count": 26,
     "metadata": {},
     "output_type": "execute_result"
    }
   ],
   "source": [
    "# question = \"How does the document highlight the growing integration of cloud technology in business operations in Nepal?\"\n",
    "# question = \"Why is a multi-layered approach crucial for cloud security in Nepal?\"\n",
    "# question = \"What sensitive data do Nepal-based businesses typically handle, and why is safeguarding it in the cloud important?\"\n",
    "# question = \"What advantages do real-time monitoring and enhanced visibility bring to businesses in Nepal?\"\n",
    "question = \"Why is scalability mentioned as a key feature of cloud security solutions in Nepal?\"\n",
    "\n",
    "sim_docs = pinecone_similarity_search(pinecone_vs, question, k=2)\n",
    "sim_docs"
   ]
  },
  {
   "cell_type": "code",
   "execution_count": null,
   "id": "565f5453-d6ff-415d-8988-46c5b0f4c9e1",
   "metadata": {},
   "outputs": [],
   "source": []
  },
  {
   "cell_type": "code",
   "execution_count": 27,
   "id": "acf30e44-7f68-4ea6-a9fe-e93753a11c5b",
   "metadata": {},
   "outputs": [
    {
     "data": {
      "text/plain": [
       "[Document(page_content='With evolving cyber threats, the demand for enhanced encryption, authentication,\\n\\nand disaster recovery services is set to soar. Cloud providers are prioritizing\\n\\nsecurity measures to safeguard sensitive data.\\n\\nSustainable Cloud Computing\\n\\nService providers are committing to net-zero goals, fostering greener cloud\\n\\ncomputing in 2024. This aligns with global e\\x00orts to combat climate change,\\n\\nemphasizing sustainability within cloud operations and customer activities.\\n\\nSimpliﬁed Cloud Computing for All\\n\\nCloud providers are making deployment and management accessible through low-\\n\\ncode and no-code tools. Democratizing cloud services enables users with limited\\n\\ntechnical knowledge to leverage the power of the cloud.\\n\\n2/7\\n\\n1/4/24, 8:15 AM\\n\\nUnveiling the Future: Top Cloud Computing Trends Shaping 2024 and Beyond\\n\\nPrivacy Focus in the Cloud\\n\\nContinuous e\\x00orts are underway to develop technological and legislative solutions\\n\\nfor maintaining data privacy and building trust with customers. Data protection\\n\\nhas become a priority in the digital age.\\n\\nServerless or Pay-as-You-Go Cloud Model\\n\\nCompanies can eliminate server management by adopting a pay-as-you-go\\n\\nmodel, paying only for the resources used. This enhances e\\x00ciency and allows\\n\\nbusinesses to concentrate on core activities instead of infrastructure management.\\n\\nEdge Computing for Faster Data Analysis\\n\\nEdge computing, processing data close to its collection point, gains traction with\\n\\nadvancements in networks and power-e\\x00cient processors. This trend is\\n\\nparticularly relevant for applications requiring low latency.\\n\\nIn summary, the cloud computing landscape in 2024 is poised for signiﬁcant\\n\\nchanges, from democratizing AI to prioritizing security and sustainability. Stay\\n\\ninformed on these developments by subscribing to our channel for the latest\\n\\ninsights into the evolving world of cloud computing.\\n\\n\\ue63f', metadata={'chunk': 1.0, 'source': './docs/Unveiling the Future_ Top Cloud Computing Trends Shaping 2024 and Beyond.pdf'}),\n",
       " Document(page_content='accessibility, cloud storage has become a preferred choice for businesses seeking\\n\\nreliable data management.\\n\\n2. Backup and Recovery\\n\\nData loss due to hardware failures or disasters can have severe consequences for\\n\\nbusinesses. Cloud service providers o\\x00er secure storage and backup solutions,\\n\\nensuring data remains safe and recoverable even in the event of a catastrophic\\n\\nincident. Cloud backups provide an additional layer of protection against data\\n\\nloss and allow users to access their data from anywhere in the world.\\n\\n3. Big Data Analysis\\n\\nCloud computing has transformed how businesses handle and analyze big data.\\n\\nWith the virtually unlimited storage capacity of the cloud, organizations can\\n\\nmanage large and complex data sets that were previously di\\x00cult to process with\\n\\ntraditional database management tools. Analyzing big data allows businesses to\\n\\nextract valuable insights, enhancing marketing e\\x00orts, product development, and\\n\\ncustomer relations.\\n\\n4. Testing and Development\\n\\nCloud computing applications provide a cost-e\\x00ective and e\\x00cient solution for\\n\\ntesting and developing products. Setting up environments for testing and\\n\\ndevelopment traditionally involved signiﬁcant time, expense, and manpower.\\n\\nHowever, with cloud computing, businesses can access scalable and ﬂexible cloud\\n\\nservices, saving time and money on product development and resource\\n\\ninvestment.\\n\\n2/7\\n\\n1/4/24, 8:16 AM\\n\\nUnlocking the Power of Cloud Computing: Impactful Uses Across Industries\\n\\n5. Antivirus Applications\\n\\nStoring antivirus software in the cloud has revolutionized the way organizations\\n\\ndetect and combat viruses and malware. Unlike the older method of manual\\n\\ninstallation, cloud-based antivirus applications automatically detect and ﬁx\\n\\nsecurity threats, enhancing overall system security.\\n\\n6. E-commerce Applications\\n\\nE-commerce applications hosted in the cloud have gained popularity due to their\\n\\nnumerous advantages. The cloud enables businesses to respond swiftly to', metadata={'chunk': 1.0, 'source': './docs/Unlocking the Power of Cloud Computing_ Impactful Uses Across Industries.pdf'})]"
      ]
     },
     "execution_count": 27,
     "metadata": {},
     "output_type": "execute_result"
    }
   ],
   "source": [
    "question = \"What impact is AIaaS expected to have on the accessibility and cost-effectiveness of AI technologies?\"\n",
    "# question = \"How does cloud computing act as a gateway to transformative technologies like IoT, blockchain, and quantum computing?\"\n",
    "\n",
    "sim_docs = pinecone_similarity_search(pinecone_vs, question, k=2)\n",
    "sim_docs"
   ]
  },
  {
   "cell_type": "code",
   "execution_count": null,
   "id": "bc3bf19e-92f8-4420-9656-34d4df3be244",
   "metadata": {},
   "outputs": [],
   "source": []
  },
  {
   "cell_type": "code",
   "execution_count": 28,
   "id": "ea868e5e-e882-4f9d-8809-0483f0ee1980",
   "metadata": {},
   "outputs": [],
   "source": [
    "def get_text_chunks_from_pinecone(question):\n",
    "    docs = pinecone_similarity_search(pinecone_vs, question, k=4)\n",
    "    context = \"\"\n",
    "    for doc in docs:\n",
    "        context += doc.page_content + \"\\n\\n\"\n",
    "    return context"
   ]
  },
  {
   "cell_type": "code",
   "execution_count": 29,
   "id": "5acb7a7e-7177-4286-badf-fd96ebaf0aba",
   "metadata": {},
   "outputs": [
    {
     "name": "stdout",
     "output_type": "stream",
     "text": [
      "With evolving cyber threats, the demand for enhanced encryption, authentication,\n",
      "\n",
      "and disaster recovery services is set to soar. Cloud providers are prioritizing\n",
      "\n",
      "security measures to safeguard sensitive data.\n",
      "\n",
      "Sustainable Cloud Computing\n",
      "\n",
      "Service providers are committing to net-zero goals, fostering greener cloud\n",
      "\n",
      "computing in 2024. This aligns with global e\u0000orts to combat climate change,\n",
      "\n",
      "emphasizing sustainability within cloud operations and customer activities.\n",
      "\n",
      "Simpliﬁed Cloud Computing for All\n",
      "\n",
      "Cloud providers are making deployment and management accessible through low-\n",
      "\n",
      "code and no-code tools. Democratizing cloud services enables users with limited\n",
      "\n",
      "technical knowledge to leverage the power of the cloud.\n",
      "\n",
      "2/7\n",
      "\n",
      "1/4/24, 8:15 AM\n",
      "\n",
      "Unveiling the Future: Top Cloud Computing Trends Shaping 2024 and Beyond\n",
      "\n",
      "Privacy Focus in the Cloud\n",
      "\n",
      "Continuous e\u0000orts are underway to develop technological and legislative solutions\n",
      "\n",
      "for maintaining data privacy and building trust with customers. Data protection\n",
      "\n",
      "has become a priority in the digital age.\n",
      "\n",
      "Serverless or Pay-as-You-Go Cloud Model\n",
      "\n",
      "Companies can eliminate server management by adopting a pay-as-you-go\n",
      "\n",
      "model, paying only for the resources used. This enhances e\u0000ciency and allows\n",
      "\n",
      "businesses to concentrate on core activities instead of infrastructure management.\n",
      "\n",
      "Edge Computing for Faster Data Analysis\n",
      "\n",
      "Edge computing, processing data close to its collection point, gains traction with\n",
      "\n",
      "advancements in networks and power-e\u0000cient processors. This trend is\n",
      "\n",
      "particularly relevant for applications requiring low latency.\n",
      "\n",
      "In summary, the cloud computing landscape in 2024 is poised for signiﬁcant\n",
      "\n",
      "changes, from democratizing AI to prioritizing security and sustainability. Stay\n",
      "\n",
      "informed on these developments by subscribing to our channel for the latest\n",
      "\n",
      "insights into the evolving world of cloud computing.\n",
      "\n",
      "\n",
      "\n",
      "accessibility, cloud storage has become a preferred choice for businesses seeking\n",
      "\n",
      "reliable data management.\n",
      "\n",
      "2. Backup and Recovery\n",
      "\n",
      "Data loss due to hardware failures or disasters can have severe consequences for\n",
      "\n",
      "businesses. Cloud service providers o\u0000er secure storage and backup solutions,\n",
      "\n",
      "ensuring data remains safe and recoverable even in the event of a catastrophic\n",
      "\n",
      "incident. Cloud backups provide an additional layer of protection against data\n",
      "\n",
      "loss and allow users to access their data from anywhere in the world.\n",
      "\n",
      "3. Big Data Analysis\n",
      "\n",
      "Cloud computing has transformed how businesses handle and analyze big data.\n",
      "\n",
      "With the virtually unlimited storage capacity of the cloud, organizations can\n",
      "\n",
      "manage large and complex data sets that were previously di\u0000cult to process with\n",
      "\n",
      "traditional database management tools. Analyzing big data allows businesses to\n",
      "\n",
      "extract valuable insights, enhancing marketing e\u0000orts, product development, and\n",
      "\n",
      "customer relations.\n",
      "\n",
      "4. Testing and Development\n",
      "\n",
      "Cloud computing applications provide a cost-e\u0000ective and e\u0000cient solution for\n",
      "\n",
      "testing and developing products. Setting up environments for testing and\n",
      "\n",
      "development traditionally involved signiﬁcant time, expense, and manpower.\n",
      "\n",
      "However, with cloud computing, businesses can access scalable and ﬂexible cloud\n",
      "\n",
      "services, saving time and money on product development and resource\n",
      "\n",
      "investment.\n",
      "\n",
      "2/7\n",
      "\n",
      "1/4/24, 8:16 AM\n",
      "\n",
      "Unlocking the Power of Cloud Computing: Impactful Uses Across Industries\n",
      "\n",
      "5. Antivirus Applications\n",
      "\n",
      "Storing antivirus software in the cloud has revolutionized the way organizations\n",
      "\n",
      "detect and combat viruses and malware. Unlike the older method of manual\n",
      "\n",
      "installation, cloud-based antivirus applications automatically detect and ﬁx\n",
      "\n",
      "security threats, enhancing overall system security.\n",
      "\n",
      "6. E-commerce Applications\n",
      "\n",
      "E-commerce applications hosted in the cloud have gained popularity due to their\n",
      "\n",
      "numerous advantages. The cloud enables businesses to respond swiftly to\n",
      "\n",
      "1/4/24, 8:15 AM\n",
      "\n",
      "Unveiling the Future: Top Cloud Computing Trends Shaping 2024 and Beyond\n",
      "\n",
      "International 3\n",
      "\n",
      "   \n",
      "\n",
      "aa\n",
      "\n",
      " Contact us\n",
      "\n",
      "Unveiling the Future: Top Cloud Computing Trends Shaping 2024 and Beyond\n",
      "\n",
      "by sakar | Dec 22, 2023 | Cloud Computing | 0 comments\n",
      "\n",
      "Explore the upcoming cloud computing trends that will dominate 2024 as the\n",
      "\n",
      "industry undergoes a transformative phase, with businesses projected to invest\n",
      "\n",
      "trillions for groundbreaking innovations. Delve into the key trends shaping the\n",
      "\n",
      "Got any questions? We're happy\n",
      "\n",
      "future:\n",
      "\n",
      "to help.\n",
      "\n",
      "AI Transformation through AI as a Service (AIaaS)\n",
      "\n",
      "1/7\n",
      "\n",
      "1/4/24, 8:15 AM\n",
      "\n",
      "Unveiling the Future: Top Cloud Computing Trends Shaping 2024 and Beyond\n",
      "\n",
      "Cloud infrastructure is democratizing AI, enabling businesses to harness advanced\n",
      "\n",
      "AI technologies without the high costs of in-house training and maintenance.\n",
      "\n",
      "AIaaS is set to make AI accessible and cost-e\u0000ective for businesses of all sizes.\n",
      "\n",
      "Rise of Hybrid and Multi-Cloud Strategies\n",
      "\n",
      "Organizations are increasingly adopting services from multiple cloud providers to\n",
      "\n",
      "achieve a balance between security and ﬂexibility. Expect data governance and\n",
      "\n",
      "system integration challenges as multi-cloud approaches gain prominence.\n",
      "\n",
      "Real-Time Cloud Infrastructure for Instant Insights\n",
      "\n",
      "The demand for up-to-the-minute insights is driving the need for data storage\n",
      "\n",
      "solutions like ﬂash and solid-state devices. Real-time cloud infrastructure is\n",
      "\n",
      "essential for businesses to stay competitive in the digital landscape.\n",
      "\n",
      "Cloud-Driven Innovation and Transformation\n",
      "\n",
      "Cloud computing is a gateway to transformative technologies like IoT, blockchain,\n",
      "\n",
      "and quantum computing. It accelerates the exploration of emerging technologies,\n",
      "\n",
      "enabling businesses to innovate and stay ahead.\n",
      "\n",
      "Enhanced Cloud Security and Resilience\n",
      "\n",
      "With evolving cyber threats, the demand for enhanced encryption, authentication,\n",
      "\n",
      "and disaster recovery services is set to soar. Cloud providers are prioritizing\n",
      "\n",
      "security measures to safeguard sensitive data.\n",
      "\n",
      "Sustainable Cloud Computing\n",
      "\n",
      "security threats, enhancing overall system security.\n",
      "\n",
      "6. E-commerce Applications\n",
      "\n",
      "E-commerce applications hosted in the cloud have gained popularity due to their\n",
      "\n",
      "numerous advantages. The cloud enables businesses to respond swiftly to\n",
      "\n",
      "emerging opportunities and streamline operations with minimal time and resource\n",
      "\n",
      "investment. Managing customer data, product information, and operational\n",
      "\n",
      "systems in the cloud ensures a seamless and dynamic e-commerce experience for\n",
      "\n",
      "businesses and customers alike.\n",
      "\n",
      "7. Cloud Computing in Education\n",
      "\n",
      "The education sector has witnessed signiﬁcant transformations through cloud\n",
      "\n",
      "computing. E-learning, online distance\n",
      "\n",
      "learning programs, and student\n",
      "\n",
      "information portals have become more accessible and connected, beneﬁting\n",
      "\n",
      "students, teachers, and researchers. Cloud technology enables easy and e\u0000cient\n",
      "\n",
      "access to data and information from educational institutions, fostering an\n",
      "\n",
      "enhanced learning environment.\n",
      "\n",
      "Conclusion\n",
      "\n",
      "The versatility of cloud computing has revolutionized how organizations operate\n",
      "\n",
      "and interact with data, applications, and resources. From e\u0000cient online data\n",
      "\n",
      "storage and reliable backup solutions to transformative big data analysis and\n",
      "\n",
      "streamlined testing and development, cloud computing has become an\n",
      "\n",
      "indispensable tool for businesses across diverse industries. Furthermore, the\n",
      "\n",
      "impact of cloud computing extends to enhancing e-commerce experiences and\n",
      "\n",
      "revolutionizing the education sector. As technology continues to evolve, the\n",
      "\n",
      "importance and inﬂuence of cloud computing in shaping a connected and e\u0000cient\n",
      "\n",
      "world will only grow stronger.\n",
      "\n",
      "3/7\n",
      "\n",
      "\n"
     ]
    }
   ],
   "source": [
    "context = get_text_chunks_from_pinecone(question)\n",
    "print(context)"
   ]
  },
  {
   "cell_type": "code",
   "execution_count": null,
   "id": "32a4908b-f53b-4d2c-80c5-c1ab3d8cea88",
   "metadata": {},
   "outputs": [],
   "source": []
  },
  {
   "cell_type": "code",
   "execution_count": 30,
   "id": "d556e99d-a60b-4d56-b752-5d666ec3e116",
   "metadata": {},
   "outputs": [],
   "source": [
    "class AnswerParser(BaseModel):\n",
    "    answer : str = Field(description=\"Answer of the user question based on context provided.\")\n",
    "\n",
    "answer_parser = PydanticOutputParser(pydantic_object=AnswerParser)"
   ]
  },
  {
   "cell_type": "code",
   "execution_count": null,
   "id": "28391ff0-051b-46f2-b588-9949a4c0bbe4",
   "metadata": {},
   "outputs": [],
   "source": []
  },
  {
   "cell_type": "code",
   "execution_count": 31,
   "id": "a28c352e-a818-451f-9b2a-6e4d212b0443",
   "metadata": {},
   "outputs": [],
   "source": [
    "def get_qa_prompt(question, context, answer_parser):\n",
    "    qa_prompt = PromptTemplate(\n",
    "            template=\"\"\"Human: You are a world class algorithm for extracting information in structured formats.\n",
    "            You are provided with the user question along with the relevant text chunks to the user question from vector store.\n",
    "            Your task is to answer user question based on the relevant text chunks.\n",
    "            \n",
    "            {format_instructions}\n",
    "            \n",
    "            Use the given format to extract answer for the following user's question:\n",
    "            {question}\n",
    "            \n",
    "            The relevant text chunks are as follow:\n",
    "            {context}\n",
    "            \n",
    "            Note:- Make sure to answer in the correct format specified above. If you don't know the answer from the provided text context don't try to generate on your own. In that case reply with 'I do not having enough context to answer your question.'\"\n",
    "            \n",
    "            Assistant: \n",
    "            \n",
    "            \n",
    "            \"\"\",\n",
    "            input_variables=[\"question\", \"context\"],\n",
    "            partial_variables={\"format_instructions\": answer_parser.get_format_instructions()},\n",
    "        )\n",
    "    return qa_prompt"
   ]
  },
  {
   "cell_type": "code",
   "execution_count": null,
   "id": "010c6eb4-3764-42be-a948-57d03a7c9c23",
   "metadata": {},
   "outputs": [],
   "source": []
  },
  {
   "cell_type": "code",
   "execution_count": 32,
   "id": "e514c838-7be6-4abd-b957-f47b3306a8cd",
   "metadata": {},
   "outputs": [],
   "source": [
    "def get_question_answer_from_llm(question, parser):\n",
    "    context = get_text_chunks_from_pinecone(question)\n",
    "    qa_prompt = get_qa_prompt(question, context, parser)\n",
    "    _input = qa_prompt.format_prompt(question=question, context=context, parser=parser)\n",
    "    _output = llm(_input.to_string())\n",
    "    try:\n",
    "        obj = parser.parse(_output)\n",
    "        return obj.answer\n",
    "    except Exception as ex:\n",
    "        print(\"Failed to parse answer response from LLM\", ex)\n",
    "        return None"
   ]
  },
  {
   "cell_type": "code",
   "execution_count": null,
   "id": "8ade1cbc-beb2-49fa-90f6-eea80d9400f5",
   "metadata": {},
   "outputs": [],
   "source": []
  },
  {
   "cell_type": "code",
   "execution_count": 33,
   "id": "fc4613ac-5831-4e31-908c-b363f50c38d8",
   "metadata": {},
   "outputs": [
    {
     "name": "stdout",
     "output_type": "stream",
     "text": [
      "AI contributes to the effectiveness of email marketing campaigns by helping with tasks such as organizing email lists, personalizing content to target specific audiences, and automating the writing of emails. This saves time for marketers and allows for better optimization and ROI of campaigns.\n"
     ]
    }
   ],
   "source": [
    "question = \"In what ways does AI contribute to the effectiveness of email marketing campaigns?\"\n",
    "answer = get_question_answer_from_llm(question, answer_parser)\n",
    "print(answer)"
   ]
  },
  {
   "cell_type": "code",
   "execution_count": null,
   "id": "98c0b7d2-e664-467b-a107-5104b6df77f2",
   "metadata": {},
   "outputs": [],
   "source": []
  },
  {
   "cell_type": "code",
   "execution_count": 34,
   "id": "39ec64f3-67a7-4df4-88aa-cccc1fbed026",
   "metadata": {},
   "outputs": [
    {
     "name": "stdout",
     "output_type": "stream",
     "text": [
      "Scalability is mentioned as a key feature of cloud security solutions in Nepal because cloud security solutions are scalable, allowing them to grow with businesses in Nepal as they expand their operations and data storage. The security measures adapt to the evolving landscape as businesses grow, ensuring consistent protection.\n"
     ]
    }
   ],
   "source": [
    "question = \"Why is scalability mentioned as a key feature of cloud security solutions in Nepal?\"\n",
    "answer = get_question_answer_from_llm(question, answer_parser)\n",
    "print(answer)"
   ]
  },
  {
   "cell_type": "code",
   "execution_count": null,
   "id": "dcc1a863-f22b-4111-9d19-45279bb26086",
   "metadata": {},
   "outputs": [],
   "source": []
  },
  {
   "cell_type": "code",
   "execution_count": 35,
   "id": "908b1eff-2192-40f4-aaf3-b50a74c2a999",
   "metadata": {},
   "outputs": [
    {
     "name": "stdout",
     "output_type": "stream",
     "text": [
      "The text suggests that AIaaS (AI as a Service) will make AI technologies more accessible and cost-effective for businesses of all sizes. By providing AI capabilities through the cloud, AIaaS can democratize access to advanced AI without the high costs of developing in-house AI expertise and infrastructure.\n"
     ]
    }
   ],
   "source": [
    "question = \"What impact is AIaaS expected to have on the accessibility and cost-effectiveness of AI technologies?\"\n",
    "answer = get_question_answer_from_llm(question, answer_parser)\n",
    "print(answer)"
   ]
  },
  {
   "cell_type": "code",
   "execution_count": null,
   "id": "6e3caf99-666e-40e5-90c0-ede98c363d8a",
   "metadata": {},
   "outputs": [],
   "source": []
  }
 ],
 "metadata": {
  "kernelspec": {
   "display_name": "Python 3 (ipykernel)",
   "language": "python",
   "name": "python3"
  },
  "language_info": {
   "codemirror_mode": {
    "name": "ipython",
    "version": 3
   },
   "file_extension": ".py",
   "mimetype": "text/x-python",
   "name": "python",
   "nbconvert_exporter": "python",
   "pygments_lexer": "ipython3",
   "version": "3.11.4"
  }
 },
 "nbformat": 4,
 "nbformat_minor": 5
}
