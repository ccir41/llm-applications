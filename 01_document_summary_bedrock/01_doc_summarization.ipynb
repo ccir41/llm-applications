{
 "cells": [
  {
   "cell_type": "code",
   "execution_count": 156,
   "id": "c6ed4e73-40c7-4b12-9100-ce5539c6eaed",
   "metadata": {},
   "outputs": [],
   "source": [
    "import os\n",
    "import re\n",
    "import tqdm\n",
    "import boto3\n",
    "import pandas as pd\n",
    "\n",
    "from typing import List\n",
    "\n",
    "from langchain.text_splitter import CharacterTextSplitter\n",
    "from langchain.docstore.document import Document\n",
    "\n",
    "from langchain.prompts import PromptTemplate\n",
    "from langchain.embeddings import BedrockEmbeddings\n",
    "from langchain.llms.bedrock import Bedrock\n",
    "\n",
    "from langchain.output_parsers import PydanticOutputParser\n",
    "from langchain.pydantic_v1 import BaseModel, Field\n",
    "\n",
    "from langchain_community.document_loaders import UnstructuredPDFLoader"
   ]
  },
  {
   "cell_type": "code",
   "execution_count": 112,
   "id": "7ffdf82b-11c7-465a-9c23-07aebfb421fe",
   "metadata": {},
   "outputs": [],
   "source": [
    "profile_name = 'genese-llm-acc'\n",
    "bedrock_region = 'us-west-2'\n",
    "\n",
    "session = boto3.Session(profile_name=profile_name)\n",
    "bedrock = session.client('bedrock-runtime' , bedrock_region, endpoint_url=f'https://bedrock.{bedrock_region}.amazonaws.com')\n",
    "model_kwargs = {\n",
    "    \"max_tokens_to_sample\": 4096,\n",
    "    \"temperature\": 0,\n",
    "    \"top_k\": 250,\n",
    "    \"top_p\": 1,\n",
    "    \"stop_sequences\": [\"\\n\\nHuman\"],\n",
    "}\n",
    "llm = Bedrock(model_id=\"anthropic.claude-v2\", client=bedrock, model_kwargs=model_kwargs)\n",
    "embeddings = BedrockEmbeddings(client=bedrock)"
   ]
  },
  {
   "cell_type": "code",
   "execution_count": 17,
   "id": "766d912b-dcb6-45c2-8bf9-79e58af177eb",
   "metadata": {},
   "outputs": [],
   "source": [
    "def get_pdf_paths(pdf_directory):\n",
    "    pdf_paths = []\n",
    "    for root, dirs, files in os.walk(pdf_directory):\n",
    "        for file in files:\n",
    "            if file.endswith(\".pdf\"):\n",
    "                pdf_path = os.path.join(root, file)\n",
    "                pdf_path = pdf_path.replace('\\\\', '/')\n",
    "                pdf_paths.append(pdf_path)\n",
    "    return pdf_paths"
   ]
  },
  {
   "cell_type": "code",
   "execution_count": 18,
   "id": "d99a4a91-8f31-4c18-8579-50ba4509139a",
   "metadata": {},
   "outputs": [
    {
     "data": {
      "text/plain": [
       "['./docs/Why Is Email Marketing Still Relevant in 2023_.pdf',\n",
       " './docs/The Critical Significance of Cloud Security and Cybersecurity in Nepal.pdf',\n",
       " './docs/Unveiling the Future_ Top Cloud Computing Trends Shaping 2024 and Beyond.pdf',\n",
       " './docs/Which Zoom Security Features Are Best for Your Industry_.pdf',\n",
       " './docs/Unlocking the Power of Cloud Computing_ Impactful Uses Across Industries.pdf',\n",
       " './docs/Boost Your Business Security with Cloud-Based Security as a Service (SECaaS).pdf',\n",
       " './docs/What is Business Intelligence (BI)_.pdf',\n",
       " './docs/6 Reasons to choose Zoho Workplace.pdf',\n",
       " './docs/Importance of Quality Assurance for Your Business.pdf']"
      ]
     },
     "execution_count": 18,
     "metadata": {},
     "output_type": "execute_result"
    }
   ],
   "source": [
    "pdf_paths = get_pdf_paths('./docs')\n",
    "pdf_paths"
   ]
  },
  {
   "cell_type": "code",
   "execution_count": 98,
   "id": "e9662e6c-78e9-44e3-8543-cd56492fd4d4",
   "metadata": {},
   "outputs": [],
   "source": [
    "def get_cleaned_page_content(page_content):\n",
    "    ## remove url patterns\n",
    "    url_pattern = re.compile(r'https?://\\S+|www\\.\\S+')\n",
    "    page_content = url_pattern.sub('', page_content)\n",
    "    \n",
    "    try:\n",
    "        social_pattern = r'Facebook \\d+\\n\\n'\n",
    "        result = re.split(social_pattern, page_content)\n",
    "        page_content = result[0]\n",
    "    except:\n",
    "        pass\n",
    "    return page_content"
   ]
  },
  {
   "cell_type": "code",
   "execution_count": 100,
   "id": "2e08e4a6-2789-4f74-8fcb-eb11a77ee385",
   "metadata": {},
   "outputs": [],
   "source": [
    "def make_document(docs):\n",
    "    cleaned_page_content = get_cleaned_page_content(docs[0].page_content)\n",
    "    doc = Document(page_content=cleaned_page_content, metadata=docs[0].metadata)\n",
    "    return doc"
   ]
  },
  {
   "cell_type": "code",
   "execution_count": 101,
   "id": "0dbdb7fa-e7df-4746-b45b-368e68385563",
   "metadata": {},
   "outputs": [],
   "source": [
    "documents = []\n",
    "\n",
    "for pdf_path in pdf_paths:\n",
    "    loader = UnstructuredPDFLoader(pdf_path)\n",
    "    docs = loader.load()\n",
    "    documents.append(docs)"
   ]
  },
  {
   "cell_type": "code",
   "execution_count": 102,
   "id": "b3f5cfc5-92b8-4353-9825-6a2ee180a779",
   "metadata": {},
   "outputs": [
    {
     "data": {
      "text/plain": [
       "9"
      ]
     },
     "execution_count": 102,
     "metadata": {},
     "output_type": "execute_result"
    }
   ],
   "source": [
    "len(documents)"
   ]
  },
  {
   "cell_type": "code",
   "execution_count": 103,
   "id": "06a14754-5609-43d9-b878-1f3352851a3f",
   "metadata": {},
   "outputs": [
    {
     "data": {
      "text/plain": [
       "9"
      ]
     },
     "execution_count": 103,
     "metadata": {},
     "output_type": "execute_result"
    }
   ],
   "source": [
    "len(pdf_paths)"
   ]
  },
  {
   "cell_type": "code",
   "execution_count": 104,
   "id": "afb8c629-f5a7-4aa6-adc2-2ce6a6ff575d",
   "metadata": {},
   "outputs": [],
   "source": [
    "new_documents = list(map(make_document, documents))"
   ]
  },
  {
   "cell_type": "code",
   "execution_count": 105,
   "id": "8fd7e9e5-c9ce-4f35-974c-850aeea714de",
   "metadata": {},
   "outputs": [
    {
     "data": {
      "text/plain": [
       "Document(page_content=\"1/4/24, 8:17 AM\\n\\nWhy Is Email Marketing Still Relevant in 2023?\\n\\nInternational 3\\n\\n\\ue093\\ue093 \\ue094\\ue094 \\ue09d\\ue09d \\ue09a\\ue09a\\n\\naa\\n\\n\\uf0e0 Contact us\\n\\nWhy Is Email Marketing Still Relevant in 2023?\\n\\nby sakar | Apr 25, 2023 | Email Marketing | 0 comments\\n\\nEmail marketing is a popular and reliable marketing method for businesses due to\\n\\nits stability, a\\x00ordability, and control. Since email marketing is an owned media\\n\\nchannel, marketers have greater control over the messaging and reach of their\\n\\ncampaigns.\\n\\nAlthough trendy marketing tactics like gamiﬁcation and inﬂuencer marketing can\\n\\nGot any questions? We're happy\\n\\nbe useful for engaging customers online, they often require a larger budget and\\n\\nto help.\\n\\nmay not generate enough conversions to make a signiﬁcant impact. These\\n\\nstrategies also fall under earned or paid media, which o\\x00er businesses less control\\n\\nand require more time and testing to see a positive return on investment.\\n\\n\\n\\n1/10\\n\\n1/4/24, 8:17 AM\\n\\nWhy Is Email Marketing Still Relevant in 2023?\\n\\nEmail marketing has over 4 billion daily users and presents businesses with more\\n\\nopportunities to connect with their customers at a lower cost. Most customers even\\n\\nprefer email over other forms of business communication, and sending weekly\\n\\nemails is considered the optimal frequency. Furthermore, email marketing\\n\\ncontinues to have one of the highest returns on investment among all marketing\\n\\nchannels, and modern automation technology has made email campaign creation\\n\\nmore e\\x00cient.\\n\\nWhat Trends Are Impacting Email Marketing in 2023?\\n\\nTo ensure that your email marketing campaigns in 2023 e\\x00ectively connect with\\n\\ncustomers and boost sales, it’s important to understand how the latest marketing\\n\\ntrends can inﬂuence your approach.\\n\\n1. Mobile Optimization: As of 2023, there has been a surge in mobile device usage,\\n\\nwhich has led to changes in the online landscape. The majority of email activity\\n\\nnow comes from mobile devices, and if emails don’t display correctly on phones,\\n\\n70% of customers will delete them. In some cases, customers may even\\n\\nunsubscribe if the email user experience is poor. Therefore, optimizing emails for\\n\\nmobile devices in 2023 is crucial for retaining your audience.\\n\\n2. Customers Prioritize Social Responsibility: In modern times, Corporate Social\\n\\nResponsibility (CSR) has gained signiﬁcant signiﬁcance for businesses, with\\n\\naround 50% of Gen Z and 41% of Millennials preferring companies that take a\\n\\nstand on social issues. Email communication is an e\\x00ective means of providing\\n\\ndetailed information about a company’s CSR initiatives, such as brand values and\\n\\nsocial issue positions. Unlike social media, which has limitations on text length, an\\n\\nemail newsletter allows for longer explanations, which increases the chances of the\\n\\nmessage being viewed by customers since it is delivered directly to them.\\n\\n3. Sales & Marketing Alignment: According to a recent report, 54% of marketers\\n\\nare struggling to synchronize their sales and marketing teams. Surprisingly, only\\n\\n\\n\\n2/10\\n\\n1/4/24, 8:17 AM\\n\\nWhy Is Email Marketing Still Relevant in 2023?\\n\\n19% of them plan to focus on improving this alignment in 2023. Failure to align\\n\\nthese teams may result in inconsistent messaging and branding, so prioritizing\\n\\nsales and marketing alignment in 2023 could give your business an edge over\\n\\ncompetitors. Email is an excellent tool to address this issue since it can serve as\\n\\nboth a sales and marketing platform. Sales teams can utilize email marketing for\\n\\ntargeted content, deals, and direct product sales, while marketing teams can use it\\n\\nto build the brand. Creating a channel for collaboration between both teams via\\n\\nemail can help ensure consistent messaging delivery to all customers.\\n\\n4. Inbound Marketing: One of the most signiﬁcant advantages of email marketing\\n\\nfor businesses is that customers voluntarily sign up for email lists. In contrast, most\\n\\ntraditional marketing is outbound marketing that can disrupt a customer’s media\\n\\nexperience, contributing to ad fatigue. The digital landscape’s constant advertising\\n\\nmakes it di\\x00cult to reach customers who may block or avoid ads, thereby\\n\\nreducing outbound marketing’s e\\x00ectiveness. While email marketing can also\\n\\ninvolve outbound marketing, collecting email list sign-ups and newsletters is an\\n\\ninbound email marketing strategy where customers initiate engagement with the\\n\\nbrand. This approach allows businesses to communicate with a willing audience\\n\\nthat actively requests content. By providing content tailored to customers’ needs,\\n\\nbusinesses can build trust and foster brand loyalty over time.\\n\\n5. Focus on Customer Service: Customers are more likely to make additional\\n\\npurchases from a company that provides good customer service, with 89% of\\n\\nconsumers indicating their likelihood of doing so. Additionally, 78% of customers\\n\\nwill continue to patronize a company even after a mistake has been made if they\\n\\no\\x00er excellent customer service.\\n\\n\\n\\n3/10\\n\\n1/4/24, 8:17 AM\\n\\nWhy Is Email Marketing Still Relevant in 2023?\\n\\nEmail marketing is a crucial channel for customer service since it allows companies\\n\\nto stay in constant contact with customers during their buyer’s journey.\\n\\nCompanies can improve the customer service experience by segmenting their\\n\\naudience and providing personalized, real-time communication such as product\\n\\nlaunches, limited-time o\\x00ers, and birthday messages. Dynamic emails and\\n\\nretargeting emails can take personalized communication to the next level,\\n\\naddressing customers directly and resolving any issues quickly to make them feel\\n\\nvalued.\\n\\n6. Interactive Content: As the digital landscape evolves, businesses are turning to\\n\\naugmented reality (AR), virtual reality (VR), and digital games to create interactive\\n\\nexperiences for consumers. However, there are also opportunities to incorporate\\n\\ninteractivity into email marketing. A majority of consumers, 91%, now prefer\\n\\ninteractive content in emails, yet few businesses are providing it. Incorporating\\n\\ninteractive elements in emails can di\\x00erentiate your brand from competitors and\\n\\nincrease engagement and website tra\\x00c. Strategies could include embedding\\n\\npodcast episodes or video marketing content, adding buttons for related content,\\n\\nor using interactive images and infographics to showcase curated content.\\n\\n7. Tighter Privacy Laws for Customers: Due to the increase of personal data being\\n\\nuploaded online, data privacy has become a more important issue. Recently,\\n\\nApple’s mail privacy iOS update has given customers more control and privacy by\\n\\nallowing them to hide their IP and email addresses and prevent companies from\\n\\n\\n\\n4/10\\n\\n1/4/24, 8:17 AM\\n\\nWhy Is Email Marketing Still Relevant in 2023?\\n\\ntracking email open rates. As privacy features become more popular, customers\\n\\nare more trusting of and accepting of email as a marketing method compared to\\n\\nsocial media and banner ads, with a di\\x00erence of up to 108%. Although the iOS\\n\\nupdate a\\x00ects the ability to track open rates, there are still other ways to measure\\n\\nthe success of email marketing campaigns, such as website tra\\x00c and\\n\\nconversions, click-through rates, and the ratio of unsubscribes to subscriptions.\\n\\n8. Curated Content: In 2023, the vast amount of content available online makes it\\n\\nchallenging for businesses to grab people’s attention, and it can be challenging to\\n\\nkeep up with the volume of content creation. Curated content is an e\\x00cient way to\\n\\nstand out in this noisy digital world by collecting existing information and\\n\\npresenting it in a meaningful way. Email marketing is an ideal channel for sharing\\n\\ncurated content as it allows businesses to feature blog posts, industry news, third-\\n\\nparty research, videos, and podcasts, which can improve brand authority and\\n\\neducate the audience on topics relevant to the business. Since email marketing\\n\\nallows for more long-form content than other marketing channels, businesses have\\n\\na better opportunity to delve deeper into the curated content.\\n\\n9. Automation & AI: AI has become a valuable tool for marketers in recent years,\\n\\nespecially in email marketing.\\n\\nIt can help with tasks such as organizing email lists, personalizing content to target\\n\\nspeciﬁc audiences, and even writing emails. Popular email automation platforms\\n\\n\\n\\n5/10\\n\\n1/4/24, 8:17 AM\\n\\nWhy Is Email Marketing Still Relevant in 2023?\\n\\nsuch as MailChimp o\\x00er AI-powered software at little to no cost, allowing\\n\\nbusinesses to save time on email marketing tasks that would otherwise take up\\n\\nvaluable resources. Automation also allows for better optimization of campaigns,\\n\\nenabling businesses to achieve better return on investment (ROI) within their\\n\\nbudget constraints.\\n\\nIn conclusion, email marketing remains a popular and reliable marketing method\\n\\ndue to its a\\x00ordability, stability, and control, with over 4 billion daily users. Email\\n\\nmarketing’s e\\x00ectiveness is boosted by trends such as mobile optimization, social\\n\\nresponsibility, sales and marketing alignment, inbound marketing, focus on\\n\\ncustomer service, interactive content, tighter privacy laws, and curated content. In\\n\\nparticular, mobile optimization is crucial for retaining audiences, while\\n\\nincorporating interactive elements can di\\x00erentiate brands and increase\\n\\nengagement. Additionally, companies should focus on providing excellent\\n\\ncustomer service and aligning sales and marketing e\\x00orts. Despite challenges in\\n\\ncreating e\\x00ective content, email marketing remains an essential tool for\\n\\nbusinesses to connect with customers directly and e\\x00ciently.\\n\\n\\ue63f \", metadata={'source': './docs/Why Is Email Marketing Still Relevant in 2023_.pdf'})"
      ]
     },
     "execution_count": 105,
     "metadata": {},
     "output_type": "execute_result"
    }
   ],
   "source": [
    "new_documents[0]"
   ]
  },
  {
   "cell_type": "markdown",
   "id": "5daad521-ccc0-4c94-8128-945a32fa5f18",
   "metadata": {},
   "source": [
    "### summarize the pdf content"
   ]
  },
  {
   "cell_type": "code",
   "execution_count": 135,
   "id": "cbdd9db4-25bd-42e2-9919-ad0633808dda",
   "metadata": {},
   "outputs": [],
   "source": [
    "def get_summary_prompt(text):\n",
    "    summary_prompt_template = PromptTemplate(\n",
    "        template=\"\"\"Human: You are provided with the text content from a pdf document.\n",
    "        Your task is to summarize the text content provided below.\n",
    "        {text}\n",
    "        \n",
    "        Note:- Discard PII information if present any. \n",
    "        \n",
    "        NO PREAMBLE and NO POSTAMBLE\n",
    "\n",
    "        Always follow the below instruction to generate summary of the content - \n",
    "        \n",
    "        First few 3 to 4 lines in a pagraph will give summary in paragraph mode then will followed by key points as summary.\n",
    "\n",
    "        For example:\n",
    "\n",
    "        The article discusses the relevance of email marketing in 2023 and explores various trends impacting this marketing strategy and so on.\n",
    "        \n",
    "        Key Points:\n",
    "        - point 1\n",
    "        - point 2\n",
    "        ...\n",
    "        \n",
    "        \n",
    "        Assistant: Here is the summary of the text provided \\n\\n\n",
    "        \"\"\",\n",
    "        input_variables=[\"text\"]\n",
    "    )\n",
    "    summary_prompt = summary_prompt_template.format_prompt(text=text).to_string()\n",
    "    return summary_prompt"
   ]
  },
  {
   "cell_type": "code",
   "execution_count": 136,
   "id": "7125c9dc-8aa6-49fc-96d3-30197fd17a61",
   "metadata": {},
   "outputs": [],
   "source": [
    "summary_prompt = get_summary_prompt(new_documents[0].page_content)\n",
    "summary_result = llm(summary_prompt)"
   ]
  },
  {
   "cell_type": "code",
   "execution_count": 137,
   "id": "47c3d23c-6daa-4bc3-bd44-ee71e6eacdea",
   "metadata": {},
   "outputs": [
    {
     "name": "stdout",
     "output_type": "stream",
     "text": [
      "\n",
      "The article discusses the continued relevance of email marketing in 2023 due to its affordability, stability, and control. It explores various trends impacting email marketing strategies this year.\n",
      "\n",
      "Key Points:\n",
      "\n",
      "- Mobile optimization is crucial as most email activity is now on mobile devices. \n",
      "\n",
      "- Customers prioritize companies that take a stand on social issues. Email allows communicating CSR initiatives.\n",
      "\n",
      "- Aligning sales and marketing teams via email improves consistent messaging. \n",
      "\n",
      "- Email signups are inbound marketing where customers initiate engagement.\n",
      "\n",
      "- Email improves customer service by personalized, real-time communication.\n",
      "\n",
      "- Interactive email content increases engagement and website traffic.\n",
      "\n",
      "- Tighter privacy laws give customers control, but email is still trusted.\n",
      "\n",
      "- Curated content shared via email improves brand authority.\n",
      "\n",
      "- AI and automation optimize campaigns and save resources.\n"
     ]
    }
   ],
   "source": [
    "print(summary_result)"
   ]
  },
  {
   "cell_type": "code",
   "execution_count": 138,
   "id": "213e65fe-bb05-4d9d-8f94-eb25259bc7d1",
   "metadata": {},
   "outputs": [],
   "source": [
    "def get_llm_summary(page_content):\n",
    "    summary_prompt = get_summary_prompt(page_content)\n",
    "    summary_result = llm(summary_prompt)\n",
    "    return summary_result"
   ]
  },
  {
   "cell_type": "code",
   "execution_count": 139,
   "id": "0eb836f5-4461-44c7-afb2-b58826c9fb8f",
   "metadata": {},
   "outputs": [
    {
     "name": "stderr",
     "output_type": "stream",
     "text": [
      "100%|█████████████████████████████████████████████████████████████████████████████████████████████████████████████████████████| 9/9 [01:41<00:00, 11.23s/it]\n"
     ]
    }
   ],
   "source": [
    "summaries = []\n",
    "\n",
    "for doc in tqdm.tqdm(new_documents):\n",
    "    summary = get_llm_summary(doc.page_content)\n",
    "    summaries.append({\"source\": doc.metadata[\"source\"], \"summary\": summary})\n",
    "\n",
    "df = pd.DataFrame(summaries)\n",
    "df.to_json('summaries.json', orient='records')\n",
    "# df.to_csv('summaries.csv', index=False)"
   ]
  },
  {
   "cell_type": "code",
   "execution_count": 154,
   "id": "b0f5e20d-7806-407e-9303-a7912924b6c8",
   "metadata": {},
   "outputs": [
    {
     "data": {
      "text/html": [
       "<div>\n",
       "<style scoped>\n",
       "    .dataframe tbody tr th:only-of-type {\n",
       "        vertical-align: middle;\n",
       "    }\n",
       "\n",
       "    .dataframe tbody tr th {\n",
       "        vertical-align: top;\n",
       "    }\n",
       "\n",
       "    .dataframe thead th {\n",
       "        text-align: right;\n",
       "    }\n",
       "</style>\n",
       "<table border=\"1\" class=\"dataframe\">\n",
       "  <thead>\n",
       "    <tr style=\"text-align: right;\">\n",
       "      <th></th>\n",
       "      <th>source</th>\n",
       "      <th>summary</th>\n",
       "    </tr>\n",
       "  </thead>\n",
       "  <tbody>\n",
       "    <tr>\n",
       "      <th>7</th>\n",
       "      <td>./docs/6 Reasons to choose Zoho Workplace.pdf</td>\n",
       "      <td>\\nThe text discusses the benefits of using Zoh...</td>\n",
       "    </tr>\n",
       "    <tr>\n",
       "      <th>8</th>\n",
       "      <td>./docs/Importance of Quality Assurance for You...</td>\n",
       "      <td>\\nThe article discusses the importance of qual...</td>\n",
       "    </tr>\n",
       "  </tbody>\n",
       "</table>\n",
       "</div>"
      ],
      "text/plain": [
       "                                              source  \\\n",
       "7      ./docs/6 Reasons to choose Zoho Workplace.pdf   \n",
       "8  ./docs/Importance of Quality Assurance for You...   \n",
       "\n",
       "                                             summary  \n",
       "7  \\nThe text discusses the benefits of using Zoh...  \n",
       "8  \\nThe article discusses the importance of qual...  "
      ]
     },
     "execution_count": 154,
     "metadata": {},
     "output_type": "execute_result"
    }
   ],
   "source": [
    "df.tail(2)"
   ]
  },
  {
   "cell_type": "code",
   "execution_count": null,
   "id": "06507156-2db6-409d-add9-d4faafc18ac9",
   "metadata": {},
   "outputs": [],
   "source": []
  },
  {
   "cell_type": "code",
   "execution_count": 155,
   "id": "40157b03-45cc-4b75-ad9f-980f494830b4",
   "metadata": {},
   "outputs": [
    {
     "name": "stdout",
     "output_type": "stream",
     "text": [
      "./docs/Why Is Email Marketing Still Relevant in 2023_.pdf\n",
      "\n",
      "\n",
      "\n",
      "The article discusses the continued relevance of email marketing in 2023 due to its affordability, stability, and control. It explores various trends impacting email marketing strategies this year.\n",
      "\n",
      "Key Points:\n",
      "\n",
      "- Mobile optimization is crucial as most email activity is now on mobile devices. \n",
      "\n",
      "- Customers prioritize social responsibility so email communication can provide details on a company's CSR initiatives.  \n",
      "\n",
      "- Sales and marketing alignment is needed to ensure consistent messaging. Email can serve as a collaboration channel.\n",
      "\n",
      "- Inbound marketing through email list sign-ups allows willing engagement versus disruptive outbound marketing.\n",
      "\n",
      "- Excellent customer service boosts additional purchases so email communication improves the experience.\n",
      "\n",
      "- Interactive content like videos and infographics increases engagement. \n",
      "\n",
      "- Tighter privacy laws give customers control but email is still more trusted than other channels.\n",
      "\n",
      "- Curated content shared through email improves authority by educating audiences.\n",
      "\n",
      "- AI and automation platforms help optimize campaigns and save resources.\n",
      "\n",
      "**************************************************************************************************************\n",
      "\n",
      "\n"
     ]
    }
   ],
   "source": [
    "for summary in summaries:\n",
    "    print(summary[\"source\"])\n",
    "    print(\"\\n\")\n",
    "    print(summary[\"summary\"])\n",
    "    print(\"\\n**************************************************************************************************************\\n\\n\")\n",
    "    break"
   ]
  }
 ],
 "metadata": {
  "kernelspec": {
   "display_name": "Python 3 (ipykernel)",
   "language": "python",
   "name": "python3"
  },
  "language_info": {
   "codemirror_mode": {
    "name": "ipython",
    "version": 3
   },
   "file_extension": ".py",
   "mimetype": "text/x-python",
   "name": "python",
   "nbconvert_exporter": "python",
   "pygments_lexer": "ipython3",
   "version": "3.11.4"
  }
 },
 "nbformat": 4,
 "nbformat_minor": 5
}
