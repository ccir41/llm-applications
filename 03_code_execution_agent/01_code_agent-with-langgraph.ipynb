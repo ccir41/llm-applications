{
 "cells": [
  {
   "cell_type": "markdown",
   "id": "c00858f0-461d-4f2a-b76a-cd2f4959ad41",
   "metadata": {},
   "source": [
    "## What we will do\n",
    "1. create pinecone vectorstore index\n",
    "2. index the csv file description\n",
    "3. reterive relevant csv file description for user question\n",
    "4. get desired structured output from LLM\n",
    "5. get python code from LLM and execute it\n",
    "6. get answer from LLM using the result of the code execution\n",
    "7. make graph flow of execution step for roboustness"
   ]
  },
  {
   "cell_type": "code",
   "execution_count": null,
   "id": "0a4d8931-fa7b-4268-9385-5ab4cf55a010",
   "metadata": {},
   "outputs": [],
   "source": []
  },
  {
   "cell_type": "code",
   "execution_count": 207,
   "id": "d8c739d5-9d12-4373-a176-89c07b8d41c6",
   "metadata": {},
   "outputs": [],
   "source": [
    "import uuid\n",
    "import json\n",
    "import subprocess\n",
    "import hashlib\n",
    "\n",
    "import boto3\n",
    "import pandas as pd\n",
    "\n",
    "from langchain_aws import BedrockEmbeddings, ChatBedrock\n",
    "from langchain.output_parsers import ResponseSchema, StructuredOutputParser\n",
    "from langchain_core.prompts import PromptTemplate\n",
    "from langchain_core.pydantic_v1 import BaseModel, Field\n",
    "from langchain.agents.agent_types import AgentType\n",
    "from langchain_experimental.agents.agent_toolkits import create_python_agent\n",
    "from langchain_experimental.tools import PythonAstREPLTool\n",
    "from langchain_pinecone import PineconeVectorStore\n",
    "\n",
    "from pinecone import Pinecone, ServerlessSpec"
   ]
  },
  {
   "cell_type": "code",
   "execution_count": null,
   "id": "d5a21c93-6812-4201-ac08-9b582a889dc9",
   "metadata": {},
   "outputs": [],
   "source": []
  },
  {
   "cell_type": "code",
   "execution_count": 208,
   "id": "b43e12c7-aeb5-43a0-81ec-39c015b768d4",
   "metadata": {},
   "outputs": [],
   "source": [
    "index_name = \"genese-llm-workshop\"\n",
    "namespace = \"tech-tuesday\"\n",
    "\n",
    "pc = Pinecone(api_key=\"8b444f46-fca7-4b41-a142-463ed4167ba7\")"
   ]
  },
  {
   "cell_type": "code",
   "execution_count": 209,
   "id": "5e5a0759-b90e-49ed-a0a6-f42197305104",
   "metadata": {},
   "outputs": [],
   "source": [
    "session = boto3.Session(profile_name='genese-llm-acc')\n",
    "bedrock_client = session.client(\n",
    "    'bedrock-runtime' , \n",
    "    'us-east-1', \n",
    "    endpoint_url='https://bedrock-runtime.us-east-1.amazonaws.com'\n",
    ")"
   ]
  },
  {
   "cell_type": "code",
   "execution_count": 210,
   "id": "ed138c74-de4d-45c4-9356-a277129c37d2",
   "metadata": {},
   "outputs": [],
   "source": [
    "bedrock_embeddings = BedrockEmbeddings(\n",
    "    client=bedrock_client\n",
    ")\n",
    "\n",
    "bedrock_llm = ChatBedrock(\n",
    "    model_id=\"anthropic.claude-3-5-sonnet-20240620-v1:0\",\n",
    "    client=bedrock_client,\n",
    "    model_kwargs={\n",
    "        \"temperature\": 0.0\n",
    "    }\n",
    ")"
   ]
  },
  {
   "cell_type": "code",
   "execution_count": null,
   "id": "cdc88b01-7071-4d2c-93a2-d4ecdc42e1dc",
   "metadata": {},
   "outputs": [],
   "source": []
  },
  {
   "cell_type": "code",
   "execution_count": 211,
   "id": "a3f6f5f2-63f6-41b2-ab78-3d0d793afee3",
   "metadata": {},
   "outputs": [
    {
     "data": {
      "text/plain": [
       "1536"
      ]
     },
     "execution_count": 211,
     "metadata": {},
     "output_type": "execute_result"
    }
   ],
   "source": [
    "len(bedrock_embeddings.embed_query(\"Hello\"))"
   ]
  },
  {
   "cell_type": "code",
   "execution_count": null,
   "id": "2b6ee131-361d-4156-a2c5-af13521122bb",
   "metadata": {},
   "outputs": [],
   "source": []
  },
  {
   "cell_type": "markdown",
   "id": "7e27d076-f029-4f4a-9516-66e31542d3f9",
   "metadata": {},
   "source": [
    "## create pinecone index"
   ]
  },
  {
   "cell_type": "code",
   "execution_count": null,
   "id": "d0f83641-4784-439d-b203-0b3a36f23c42",
   "metadata": {},
   "outputs": [],
   "source": []
  },
  {
   "cell_type": "code",
   "execution_count": 212,
   "id": "0c9ec5f4-6277-45b5-bff0-e1a3b6b01a7b",
   "metadata": {},
   "outputs": [
    {
     "name": "stdout",
     "output_type": "stream",
     "text": [
      "Failed to create index due to reason 'Conflict' \n",
      "Error message is 'Resource  already exists' \n"
     ]
    }
   ],
   "source": [
    "try:\n",
    "    pc.create_index(\n",
    "        name=index_name,\n",
    "        dimension=1536,\n",
    "        metric=\"cosine\",\n",
    "        spec=ServerlessSpec(\n",
    "            cloud=\"aws\",\n",
    "            region=\"us-east-1\"\n",
    "        )\n",
    "    )\n",
    "    print(\"Pinecone index created!!!\")\n",
    "except Exception as pce:\n",
    "    print(f\"Failed to create index due to reason '{pce.reason}' \\nError message is '{json.loads(pce.body)['error']['message']}' \")"
   ]
  },
  {
   "cell_type": "code",
   "execution_count": null,
   "id": "8d8b8916-17e1-4949-b25c-d60fe4b68114",
   "metadata": {},
   "outputs": [],
   "source": []
  },
  {
   "cell_type": "code",
   "execution_count": 213,
   "id": "f7c51a35-1f36-4e60-9a94-f2fb32eaf346",
   "metadata": {},
   "outputs": [
    {
     "data": {
      "text/plain": [
       "{'dimension': 1536,\n",
       " 'host': 'genese-llm-workshop-cksi585.svc.aped-4627-b74a.pinecone.io',\n",
       " 'metric': 'cosine',\n",
       " 'name': 'genese-llm-workshop',\n",
       " 'spec': {'serverless': {'cloud': 'aws', 'region': 'us-east-1'}},\n",
       " 'status': {'ready': True, 'state': 'Ready'}}"
      ]
     },
     "execution_count": 213,
     "metadata": {},
     "output_type": "execute_result"
    }
   ],
   "source": [
    "pc.describe_index(\"genese-llm-workshop\")"
   ]
  },
  {
   "cell_type": "code",
   "execution_count": null,
   "id": "c2db6613-2556-4a71-9652-f543dd41fd22",
   "metadata": {},
   "outputs": [],
   "source": []
  },
  {
   "cell_type": "code",
   "execution_count": 214,
   "id": "9faae2ca-684b-48a2-98ee-e0a5e99cacb5",
   "metadata": {},
   "outputs": [],
   "source": [
    "PINECONE_INDEX_HOST = pc.describe_index(index_name)[\"host\"]\n",
    "pc_index = pc.Index(host=PINECONE_INDEX_HOST)"
   ]
  },
  {
   "cell_type": "code",
   "execution_count": null,
   "id": "d20dc6b0-1eca-4745-a6b3-bba9f2b20bc4",
   "metadata": {},
   "outputs": [],
   "source": []
  },
  {
   "cell_type": "code",
   "execution_count": 215,
   "id": "379256bc-a400-4bdd-97ee-451452c9d299",
   "metadata": {},
   "outputs": [],
   "source": [
    "pc_vectorstore = PineconeVectorStore(\n",
    "    index=pc_index, \n",
    "    embedding=bedrock_embeddings,\n",
    "    text_key='text',\n",
    "    namespace=namespace\n",
    ")"
   ]
  },
  {
   "cell_type": "code",
   "execution_count": null,
   "id": "f1cd987d-1594-484d-b676-5e2cd26e9cf3",
   "metadata": {},
   "outputs": [],
   "source": []
  },
  {
   "cell_type": "code",
   "execution_count": 216,
   "id": "1bb9fe68-e66f-46a9-92ee-82c146fb33e1",
   "metadata": {},
   "outputs": [],
   "source": [
    "def calculate_hash(text):\n",
    "    hash = hashlib.sha256()\n",
    "    hash.update(text.encode('utf-8'))\n",
    "    hexdigest = hash.hexdigest()\n",
    "    return hexdigest"
   ]
  },
  {
   "cell_type": "code",
   "execution_count": null,
   "id": "46a0813b-c5f2-46ad-9e00-aff56760af22",
   "metadata": {},
   "outputs": [],
   "source": []
  },
  {
   "cell_type": "code",
   "execution_count": 217,
   "id": "3a9f6726-ce23-4299-8461-2a9530bd080a",
   "metadata": {},
   "outputs": [],
   "source": [
    "def pinecone_upsert(texts, metadatas, ids):\n",
    "    pc_vectorstore.add_texts(\n",
    "        texts=texts,\n",
    "        metadatas=metadatas,\n",
    "        ids=ids\n",
    "    )"
   ]
  },
  {
   "cell_type": "code",
   "execution_count": 218,
   "id": "f762e163-c0d7-4d5a-b083-0c2bf8fd705a",
   "metadata": {},
   "outputs": [],
   "source": [
    "def pinecone_similarity_search(query, namespace=namespace, k=2, filter=None):\n",
    "    docs = pc_vectorstore.similarity_search(\n",
    "        query,\n",
    "        k=k,\n",
    "        filter=filter,\n",
    "        namespace=namespace\n",
    "    )\n",
    "    return docs"
   ]
  },
  {
   "cell_type": "code",
   "execution_count": null,
   "id": "79007938-ab74-4880-89ed-13adf52ec537",
   "metadata": {},
   "outputs": [],
   "source": []
  },
  {
   "cell_type": "code",
   "execution_count": 219,
   "id": "d962135e-a0c3-4477-b516-1a7eb812d6c7",
   "metadata": {},
   "outputs": [],
   "source": [
    "code_executor = create_python_agent(\n",
    "    llm=bedrock_llm,\n",
    "    tool=PythonAstREPLTool(),\n",
    "    verbose=True,\n",
    "    agent_type=AgentType.ZERO_SHOT_REACT_DESCRIPTION,\n",
    "    agent_executor_kwargs={\n",
    "        \"handle_parsing_errors\": True, \n",
    "        \"max_iterations\": 5, \n",
    "        \"early_stopping_method\": \"generate\"\n",
    "    }\n",
    ")"
   ]
  },
  {
   "cell_type": "code",
   "execution_count": null,
   "id": "f25328a0-f3d0-4b39-87e2-08f1892b9abc",
   "metadata": {},
   "outputs": [],
   "source": []
  },
  {
   "cell_type": "markdown",
   "id": "4bef4b3c-5f5f-42f8-af28-c1c4218831db",
   "metadata": {},
   "source": [
    "## Index Documents"
   ]
  },
  {
   "cell_type": "code",
   "execution_count": null,
   "id": "74669aba-bda2-4e92-a015-73cd10d0d3d9",
   "metadata": {},
   "outputs": [],
   "source": []
  },
  {
   "cell_type": "code",
   "execution_count": 220,
   "id": "d9e2b453-e2b6-42f5-82b5-fafcd49aba3e",
   "metadata": {},
   "outputs": [],
   "source": [
    "csv_file_descriptions = {\n",
    "    \"./datasets/Border_Crossing_Entry_Data.csv\": \"Border Crossing Entry Data - This dataset provides statistics on inbound crossings at the U.S.-Canada and U.S.-Mexico borders, detailing counts for trucks, trains, containers, buses, personal vehicles, passengers, and pedestrians. Collected by U.S. Customs and Border Protection, the data only covers entries into the U.S.\",\n",
    "    \"./datasets/Employment_Unemployment_and_Labor_Force_Data.csv\": \"Employment Unemployment and Labor Force Data - This dataset uses seasonally adjusted data from the US Bureau of Labor Statistics to present information on Maryland's labor force participation rate, employment rate, and unemployment rate.\",\n",
    "    \"./datasets/NYPD_Shooting_Incident_Data_2006.csv\": \"NYPD Shooting Incident Data 2006 - This dataset provides a detailed breakdown of every shooting incident in NYC from 2006 through the end of the previous calendar year. It includes event details, location, time, and suspect and victim demographics.\",\n",
    "    \"./datasets/Warehouse_and_Retail_Sales.csv\": \"Warehouse and Retail Sales - This dataset contains a list of sales and movement data by item and department appended monthly.\"    \n",
    "}"
   ]
  },
  {
   "cell_type": "code",
   "execution_count": null,
   "id": "e87165d5-2e19-48d7-9879-86e20de25ce4",
   "metadata": {},
   "outputs": [],
   "source": []
  },
  {
   "cell_type": "code",
   "execution_count": 221,
   "id": "09d25de1-f2a1-4958-9d55-06e24d3bc750",
   "metadata": {},
   "outputs": [],
   "source": [
    "ids = []\n",
    "metadatas = []\n",
    "texts = []\n",
    "\n",
    "for csv_file_path, csv_file_context in csv_file_descriptions.items():\n",
    "    ids.append(calculate_hash(csv_file_context))\n",
    "    metadatas.append({\"csv_file_path\": csv_file_path})\n",
    "    texts.append(csv_file_context)"
   ]
  },
  {
   "cell_type": "code",
   "execution_count": 222,
   "id": "80b9ec0e-8cf2-48da-a482-ad4b4f3a4fb4",
   "metadata": {},
   "outputs": [],
   "source": [
    "pinecone_upsert(texts, metadatas, ids)"
   ]
  },
  {
   "cell_type": "code",
   "execution_count": null,
   "id": "1b6ba954-4709-48c2-b2e1-bbfce1748010",
   "metadata": {},
   "outputs": [],
   "source": []
  },
  {
   "cell_type": "markdown",
   "id": "8b9fcfd4-eefe-47dc-a3d2-d175c6584353",
   "metadata": {},
   "source": [
    "## Test Reterival"
   ]
  },
  {
   "cell_type": "code",
   "execution_count": null,
   "id": "44581428-2892-4cc9-b36b-01dc4b704847",
   "metadata": {},
   "outputs": [],
   "source": []
  },
  {
   "cell_type": "code",
   "execution_count": 223,
   "id": "83749699-b582-49ed-9244-6c8d5bd1b826",
   "metadata": {},
   "outputs": [
    {
     "data": {
      "text/plain": [
       "[Document(page_content=\"Employment Unemployment and Labor Force Data - This dataset uses seasonally adjusted data from the US Bureau of Labor Statistics to present information on Maryland's labor force participation rate, employment rate, and unemployment rate.\", metadata={'csv_file_path': './datasets/Employment_Unemployment_and_Labor_Force_Data.csv'}),\n",
       " Document(page_content='Warehouse and Retail Sales - This dataset contains a list of sales and movement data by item and department appended monthly.', metadata={'csv_file_path': './datasets/Warehouse_and_Retail_Sales.csv'})]"
      ]
     },
     "execution_count": 223,
     "metadata": {},
     "output_type": "execute_result"
    }
   ],
   "source": [
    "docs = pinecone_similarity_search(\"What was the labor force participation rate in Maryland in January 2007\")\n",
    "docs"
   ]
  },
  {
   "cell_type": "code",
   "execution_count": null,
   "id": "4c4b6f7b-d8c0-4bcd-9aef-33fa35eb0ae9",
   "metadata": {},
   "outputs": [],
   "source": []
  },
  {
   "cell_type": "markdown",
   "id": "ccb25d3f-604f-44d3-8376-b961261d86b9",
   "metadata": {},
   "source": [
    "## Csv file path for user question"
   ]
  },
  {
   "cell_type": "code",
   "execution_count": null,
   "id": "dfabc2a9-60e7-43ef-8390-8230c7f0bf58",
   "metadata": {},
   "outputs": [],
   "source": []
  },
  {
   "cell_type": "code",
   "execution_count": 224,
   "id": "5217ab79-58eb-4988-b41b-373d75741e84",
   "metadata": {},
   "outputs": [],
   "source": [
    "def prepare_csv_file_context(docs):\n",
    "    csv_file_context = \"\"\n",
    "    \n",
    "    for doc in docs:\n",
    "        csv_file_path = doc.metadata[\"csv_file_path\"]\n",
    "        context = f\"For csv file path {csv_file_path} it's file description is as follow:\\n\" + doc.page_content\n",
    "        df = pd.read_csv(csv_file_path).head(2)\n",
    "        df_md = df.to_markdown()\n",
    "        csv_file_context += context + \"It's first 2 rows in markdown format is as follow :\\n\" + df_md + \"\\n\\n\"\n",
    "    \n",
    "    csv_file_context = csv_file_context.strip()\n",
    "    return csv_file_context"
   ]
  },
  {
   "cell_type": "code",
   "execution_count": null,
   "id": "73ad8df9-ce59-41f4-bbeb-c1ec1d1eac18",
   "metadata": {},
   "outputs": [],
   "source": []
  },
  {
   "cell_type": "code",
   "execution_count": 225,
   "id": "b1726506-4b9f-49b6-ac31-1b1ba7c69f5f",
   "metadata": {},
   "outputs": [
    {
     "name": "stdout",
     "output_type": "stream",
     "text": [
      "For csv file path ./datasets/Employment_Unemployment_and_Labor_Force_Data.csv it's file description is as follow:\n",
      "Employment Unemployment and Labor Force Data - This dataset uses seasonally adjusted data from the US Bureau of Labor Statistics to present information on Maryland's labor force participation rate, employment rate, and unemployment rate.It's first 2 rows in markdown format is as follow :\n",
      "|    | Date                   |   Year |   Month | Date Label   |   Civilian Non-institutional Population |   Civilian Labor Force |   Labor Force Participation Rate |   Employed |   Employment Rate |   Unemployed |   Unemployment Rate |\n",
      "|---:|:-----------------------|-------:|--------:|:-------------|----------------------------------------:|-----------------------:|---------------------------------:|-----------:|------------------:|-------------:|--------------------:|\n",
      "|  0 | 01/01/2007 12:00:00 AM |   2007 |       1 | Jan 2007     |                                 4312014 |                2973568 |                             69   |    2864870 |              66.4 |       108698 |                 3.7 |\n",
      "|  1 | 02/01/2007 12:00:00 AM |   2007 |       2 | Feb 2007     |                                 4314108 |                2970937 |                             68.9 |    2864666 |              66.4 |       106271 |                 3.6 |\n",
      "\n",
      "For csv file path ./datasets/Warehouse_and_Retail_Sales.csv it's file description is as follow:\n",
      "Warehouse and Retail Sales - This dataset contains a list of sales and movement data by item and department appended monthly.It's first 2 rows in markdown format is as follow :\n",
      "|    |   YEAR |   MONTH | SUPPLIER                          |   ITEM CODE | ITEM DESCRIPTION          | ITEM TYPE   |   RETAIL SALES |   RETAIL TRANSFERS |   WAREHOUSE SALES |\n",
      "|---:|-------:|--------:|:----------------------------------|------------:|:--------------------------|:------------|---------------:|-------------------:|------------------:|\n",
      "|  0 |   2020 |       1 | REPUBLIC NATIONAL DISTRIBUTING CO |      100009 | BOOTLEG RED - 750ML       | WINE        |              0 |                  0 |                 2 |\n",
      "|  1 |   2020 |       1 | PWSWN INC                         |      100024 | MOMENT DE PLAISIR - 750ML | WINE        |              0 |                  1 |                 4 |\n"
     ]
    }
   ],
   "source": [
    "csv_file_context = prepare_csv_file_context(docs)\n",
    "print(csv_file_context)"
   ]
  },
  {
   "cell_type": "code",
   "execution_count": null,
   "id": "b1fdceec-c0f1-47a4-92eb-bec058afdf17",
   "metadata": {},
   "outputs": [],
   "source": []
  },
  {
   "cell_type": "markdown",
   "id": "faec1e6d-206e-486b-8f21-75de94e8b0dc",
   "metadata": {},
   "source": [
    "## Schema to reterive result in structured format"
   ]
  },
  {
   "cell_type": "code",
   "execution_count": null,
   "id": "3f501a26-a539-456c-9f2e-158277774a5f",
   "metadata": {},
   "outputs": [],
   "source": []
  },
  {
   "cell_type": "code",
   "execution_count": 226,
   "id": "4df415b7-b382-4ce8-a22b-cd3804bf9582",
   "metadata": {},
   "outputs": [],
   "source": [
    "csv_file_path_prompt_template = \"\"\"\\\n",
    "You are provided with csv files with their file description and 2 sample rows in markdown format for additional context.\n",
    "You are also provided with user question and your task is to return csv file paths that could answer the user question.\n",
    "\n",
    "User question is as follow:\n",
    "{question}\n",
    "\n",
    "CSV file context is as follow:\n",
    "{csv_file_context}\n",
    "\n",
    "Please give your final response in the format specified below:\n",
    "{format_instructions}\n",
    "\n",
    "NOTE: NO PREAMBLE AND NO POSTAMBLE. JUST GIVE THE DESIRED RESPONSE ONLY IN THE JSON FORMAT SPECIFIED ABOVE.\n",
    "\n",
    "Your response: \n",
    "\n",
    "\n",
    "\"\"\""
   ]
  },
  {
   "cell_type": "code",
   "execution_count": 227,
   "id": "8de6d6e2-c37b-4679-b951-98fdde34634b",
   "metadata": {},
   "outputs": [],
   "source": [
    "csv_filepath_schemas = [\n",
    "    ResponseSchema(\n",
    "        name=\"csv_file_paths\", \n",
    "        description=\"CSV file paths that could solve the user question.\",\n",
    "        type=\"array\"\n",
    "    ),\n",
    "    ResponseSchema(\n",
    "        name=\"explanation\",\n",
    "        description=\"Explanation on why the above csv filepaths were choosen.\",\n",
    "        type=\"string\"\n",
    "    )\n",
    "]\n",
    "\n",
    "csv_filepath_parser = StructuredOutputParser.from_response_schemas(csv_filepath_schemas)\n",
    "\n",
    "csv_file_path_prompt = PromptTemplate(\n",
    "    template=csv_file_path_prompt_template,\n",
    "    input_variables=[\"question\", \"csv_file_context\"],\n",
    "    partial_variables={\"format_instructions\": csv_filepath_parser.get_format_instructions()},\n",
    ")\n",
    "\n",
    "csv_file_path_chain = csv_file_path_prompt | bedrock_llm | csv_filepath_parser"
   ]
  },
  {
   "cell_type": "code",
   "execution_count": null,
   "id": "d4bafc70-3c19-4219-9cb2-dbe250d84957",
   "metadata": {},
   "outputs": [],
   "source": []
  },
  {
   "cell_type": "code",
   "execution_count": 228,
   "id": "d0f9feb2-bb38-4800-b84c-83522176479b",
   "metadata": {},
   "outputs": [
    {
     "data": {
      "text/plain": [
       "{'csv_file_paths': ['./datasets/Employment_Unemployment_and_Labor_Force_Data.csv'],\n",
       " 'explanation': \"The file './datasets/Employment_Unemployment_and_Labor_Force_Data.csv' contains the relevant information to answer the user's question about the labor force participation rate and employment in Maryland in January 2007. The dataset includes columns for Date, Labor Force Participation Rate, and Employed, with data specifically for January 2007, which matches the time period specified in the question.\"}"
      ]
     },
     "execution_count": 228,
     "metadata": {},
     "output_type": "execute_result"
    }
   ],
   "source": [
    "csv_file_path_chain_response = csv_file_path_chain.invoke({\n",
    "    \"question\": \"What was the labor force participation rate in Maryland in January 2007, and how many people were employed?\",\n",
    "    \"csv_file_context\": csv_file_context\n",
    "})\n",
    "csv_file_path_chain_response"
   ]
  },
  {
   "cell_type": "code",
   "execution_count": null,
   "id": "14223536-b0fe-460c-8f60-58dedb8232e2",
   "metadata": {},
   "outputs": [],
   "source": []
  },
  {
   "cell_type": "code",
   "execution_count": 229,
   "id": "2b3ebcab-b5c2-42b7-b589-b321ca357b76",
   "metadata": {},
   "outputs": [],
   "source": [
    "def get_pandas_code_from_text(response):\n",
    "    if '```python' not in response:\n",
    "        return response.strip()\n",
    "    elif '```python' in response:\n",
    "        response = response.split('```python')[-1]\n",
    "        response = response.split('```')[0]\n",
    "        response = response.strip()\n",
    "        return response\n",
    "    else:\n",
    "        return None"
   ]
  },
  {
   "cell_type": "code",
   "execution_count": null,
   "id": "58fa387c-6833-4d3d-98cf-ad144aea7fe5",
   "metadata": {},
   "outputs": [],
   "source": []
  },
  {
   "cell_type": "code",
   "execution_count": 230,
   "id": "ba3e4c42-907b-436e-8c8a-e833af8483cd",
   "metadata": {},
   "outputs": [],
   "source": [
    "def get_pandas_agent_prompt(question, resulting_fig_filepath, resulting_csv_filepath, csv_file_paths):\n",
    "    sample_rows_prompt = \"Dataframe first 2 rows for csv filepath is given below: \"\n",
    "    \n",
    "    for csv_file_path in csv_file_paths:\n",
    "        df = pd.read_csv(csv_file_path)\n",
    "        df_md = df.head(2).to_markdown()\n",
    "        _template = f\"\"\"\n",
    "        \n",
    "        For csv file path '{csv_file_path}' it's first 2 rows as pandas dataframe in markdown format as follow:\n",
    "        {df_md}\n",
    "        \n",
    "        \"\"\"\n",
    "        sample_rows_prompt = sample_rows_prompt + _template\n",
    "\n",
    "    sample_rows_prompt = sample_rows_prompt.strip()\n",
    "    \n",
    "    template = f\"\"\"\\\n",
    "    Given the user question, create syntatically correct python code to answer the user question.\n",
    "    \n",
    "    User question is as follow:\n",
    "    {question}\n",
    "\n",
    "    CSV file paths and their sample rows that could help answer the user question are as follow:\n",
    "    {sample_rows_prompt}\n",
    "    \n",
    "    Strictly follow the following rules while generating python code to answer the user question.\n",
    "    \n",
    "    1. Always convert date or datetime or timestamp field if present any to datetime field for consistency using pd.to_datetime()\n",
    "    2. Always do the following steps for NaN values as preprocessing step.\n",
    "        2.1 Fill NaNs value using df.ffill(inplace=True) and then\n",
    "        2.2 Use df.dropna(inplace=True) to drop if any NaNs present after ffill\n",
    "        statements 2.1 and 2.2 can also be applied to the final dataframe obtained after certain analysis to remove any NaNs from the resulting dataframe.\n",
    "    3. Always double check if necessary libraries are imported for example code might have used np but import numpy as np might missing from code.\n",
    "    4. Please use latest version pandas code so that there will be no issue like depreciated warnings.\n",
    "    5. Always double check if the dataframe column names as well as the variable names in python code are properly defined so that python code generated will not raise error during code execution.\n",
    "    6. If question is asking for plotting graphs then only include plotting code otherwise do not include plotting code in the generated code, follow below rules for plotting\n",
    "        6.1 Always use matplotlib or seaborn for plotting\n",
    "        6.2 Always save the plotting to provided figure filepath which is '{resulting_fig_filepath}' in png format.\n",
    "    7. At last always save the final resulting dataframe obtained after some data analysis to new csv file in filepath: '{resulting_csv_filepath}' and also limit floating point number upto 2 precisions.\n",
    "    8. Always include below code snippet in the generated pandas code at very top to supress warning in code execution\n",
    "        ```python\n",
    "        import warnings\n",
    "        warnings.filterwarnings(\"ignore\")\n",
    "    \n",
    "    Do not try generate csv filepaths on your own; you are only limited to use csv filepath provided in context above as filepath and sample dataframe rows.\n",
    "    \n",
    "    Always give full executable python code as your Final Answer;\n",
    "    \n",
    "    NO POSTAMBLE i.e. do no add any text content after python code blocks.\n",
    "    \n",
    "    Always give a print statement at the last line of generated python code saying \"Python code provided above will give answer to the user question\" and \\\n",
    "    if the agent observation is the above print statement then code was executed successfully so you can give your Final Answer which is the python code as it is.\n",
    "    \n",
    "    Follow the format below for python agent:\n",
    "    \n",
    "    Observation: Result/Error of python code execution\n",
    "    Thought: Here is the python code to answer the user question\n",
    "    Action: python_repl_ast\n",
    "    Action Input:\n",
    "    ```python\n",
    "    # python code to answer user question\n",
    "    ```\n",
    "        \n",
    "    Final Answer: ```python\n",
    "\n",
    "    \n",
    "    \"\"\"\n",
    "    return template"
   ]
  },
  {
   "cell_type": "code",
   "execution_count": null,
   "id": "9dac140e-0bff-459c-b71c-b5c17292d1c7",
   "metadata": {},
   "outputs": [],
   "source": []
  },
  {
   "cell_type": "code",
   "execution_count": 231,
   "id": "e82a1cc7-b3f8-497b-9efb-acb30949980a",
   "metadata": {},
   "outputs": [],
   "source": [
    "def execute_pandas_agent_chain(question, uuid_str, resulting_csv_filepath, resulting_fig_filepath, csv_file_paths):\n",
    "    pandas_agent_prompt = get_pandas_agent_prompt(\n",
    "        question,\n",
    "        resulting_fig_filepath,\n",
    "        resulting_csv_filepath,\n",
    "        csv_file_paths\n",
    "    )\n",
    "    response = code_executor.invoke(pandas_agent_prompt)\n",
    "    python_code = get_pandas_code_from_text(response['output'])\n",
    "    print(\"\\n\\nPython code is ::: \\n\\n\", python_code)\n",
    "    return python_code"
   ]
  },
  {
   "cell_type": "code",
   "execution_count": null,
   "id": "07bd0231-defa-42ce-9656-53c780622147",
   "metadata": {},
   "outputs": [],
   "source": []
  },
  {
   "cell_type": "markdown",
   "id": "9bbfea28-b459-4f12-a3c3-c9a6295e92ca",
   "metadata": {},
   "source": [
    "## Generate python code"
   ]
  },
  {
   "cell_type": "code",
   "execution_count": null,
   "id": "18170d2f-6a23-45bd-b0e3-b43f4b57062f",
   "metadata": {},
   "outputs": [],
   "source": []
  },
  {
   "cell_type": "code",
   "execution_count": 232,
   "id": "9c75552f-0632-4e76-b29e-863ea7180466",
   "metadata": {},
   "outputs": [],
   "source": [
    "question = \"What was the labor force participation rate in Maryland in January 2007, and how many people were employed?\"\n",
    "\n",
    "csv_file_path_chain_response = csv_file_path_chain.invoke({\n",
    "    \"question\": question,\n",
    "    \"csv_file_context\": csv_file_context\n",
    "})\n",
    "\n",
    "csv_file_paths = csv_file_path_chain_response[\"csv_file_paths\"]"
   ]
  },
  {
   "cell_type": "code",
   "execution_count": 233,
   "id": "f90cef62-904c-44c3-af7a-cdaafe5b70d1",
   "metadata": {},
   "outputs": [
    {
     "data": {
      "text/plain": [
       "['./datasets/Employment_Unemployment_and_Labor_Force_Data.csv']"
      ]
     },
     "execution_count": 233,
     "metadata": {},
     "output_type": "execute_result"
    }
   ],
   "source": [
    "csv_file_paths"
   ]
  },
  {
   "cell_type": "code",
   "execution_count": null,
   "id": "5f2bf121-54f9-429b-b591-bdf938ca55a2",
   "metadata": {},
   "outputs": [],
   "source": []
  },
  {
   "cell_type": "code",
   "execution_count": 234,
   "id": "ab96c48f-002a-4515-9579-e9395a061747",
   "metadata": {},
   "outputs": [
    {
     "name": "stdout",
     "output_type": "stream",
     "text": [
      "\n",
      "\n",
      "\u001b[1m> Entering new AgentExecutor chain...\u001b[0m\n",
      "\u001b[32;1m\u001b[1;3mTo answer the user's question about the labor force participation rate in Maryland in January 2007 and the number of people employed, I'll need to write Python code to read the CSV file, process the data, and extract the required information. Here's the code to do that:\n",
      "\n",
      "Action: python_repl_ast\n",
      "Action Input:\n",
      "```python\n",
      "import warnings\n",
      "warnings.filterwarnings(\"ignore\")\n",
      "\n",
      "import pandas as pd\n",
      "import numpy as np\n",
      "\n",
      "# Read the CSV file\n",
      "df = pd.read_csv('./datasets/Employment_Unemployment_and_Labor_Force_Data.csv')\n",
      "\n",
      "# Convert Date to datetime\n",
      "df['Date'] = pd.to_datetime(df['Date'])\n",
      "\n",
      "# Fill NaNs and drop any remaining\n",
      "df.ffill(inplace=True)\n",
      "df.dropna(inplace=True)\n",
      "\n",
      "# Filter for January 2007\n",
      "jan_2007 = df[(df['Year'] == 2007) & (df['Month'] == 1)]\n",
      "\n",
      "# Extract required information\n",
      "labor_force_participation_rate = jan_2007['Labor Force Participation Rate'].values[0]\n",
      "employed = jan_2007['Employed'].values[0]\n",
      "\n",
      "# Print the results\n",
      "print(f\"Labor Force Participation Rate in Maryland in January 2007: {labor_force_participation_rate}%\")\n",
      "print(f\"Number of people employed in Maryland in January 2007: {employed}\")\n",
      "\n",
      "# Save the results to a CSV file\n",
      "result_df = pd.DataFrame({\n",
      "    'Metric': ['Labor Force Participation Rate', 'Employed'],\n",
      "    'Value': [labor_force_participation_rate, employed]\n",
      "})\n",
      "result_df.to_csv('/tmp/b45ce0e8-9541-407a-9fc7-ff207a7108bc.csv', index=False, float_format='%.2f')\n",
      "\n",
      "print(\"Python code provided above will give answer to the user question\")\n",
      "```\n",
      "\u001b[0mLabor Force Participation Rate in Maryland in January 2007: 69.0%\n",
      "Number of people employed in Maryland in January 2007: 2864870\n",
      "\n",
      "Observation: \u001b[36;1m\u001b[1;3mPython code provided above will give answer to the user question\n",
      "\u001b[0m\n",
      "Thought:\u001b[32;1m\u001b[1;3mThe Python code has been executed successfully, and it provides the answer to the user's question. Here's the final answer:\n",
      "\n",
      "Final Answer: ```python\n",
      "import warnings\n",
      "warnings.filterwarnings(\"ignore\")\n",
      "\n",
      "import pandas as pd\n",
      "import numpy as np\n",
      "\n",
      "# Read the CSV file\n",
      "df = pd.read_csv('./datasets/Employment_Unemployment_and_Labor_Force_Data.csv')\n",
      "\n",
      "# Convert Date to datetime\n",
      "df['Date'] = pd.to_datetime(df['Date'])\n",
      "\n",
      "# Fill NaNs and drop any remaining\n",
      "df.ffill(inplace=True)\n",
      "df.dropna(inplace=True)\n",
      "\n",
      "# Filter for January 2007\n",
      "jan_2007 = df[(df['Year'] == 2007) & (df['Month'] == 1)]\n",
      "\n",
      "# Extract required information\n",
      "labor_force_participation_rate = jan_2007['Labor Force Participation Rate'].values[0]\n",
      "employed = jan_2007['Employed'].values[0]\n",
      "\n",
      "# Print the results\n",
      "print(f\"Labor Force Participation Rate in Maryland in January 2007: {labor_force_participation_rate}%\")\n",
      "print(f\"Number of people employed in Maryland in January 2007: {employed}\")\n",
      "\n",
      "# Save the results to a CSV file\n",
      "result_df = pd.DataFrame({\n",
      "    'Metric': ['Labor Force Participation Rate', 'Employed'],\n",
      "    'Value': [labor_force_participation_rate, employed]\n",
      "})\n",
      "result_df.to_csv('/tmp/b45ce0e8-9541-407a-9fc7-ff207a7108bc.csv', index=False, float_format='%.2f')\n",
      "\n",
      "print(\"Python code provided above will give answer to the user question\")\n",
      "```\u001b[0m\n",
      "\n",
      "\u001b[1m> Finished chain.\u001b[0m\n",
      "\n",
      "\n",
      "Python code is ::: \n",
      "\n",
      " import warnings\n",
      "warnings.filterwarnings(\"ignore\")\n",
      "\n",
      "import pandas as pd\n",
      "import numpy as np\n",
      "\n",
      "# Read the CSV file\n",
      "df = pd.read_csv('./datasets/Employment_Unemployment_and_Labor_Force_Data.csv')\n",
      "\n",
      "# Convert Date to datetime\n",
      "df['Date'] = pd.to_datetime(df['Date'])\n",
      "\n",
      "# Fill NaNs and drop any remaining\n",
      "df.ffill(inplace=True)\n",
      "df.dropna(inplace=True)\n",
      "\n",
      "# Filter for January 2007\n",
      "jan_2007 = df[(df['Year'] == 2007) & (df['Month'] == 1)]\n",
      "\n",
      "# Extract required information\n",
      "labor_force_participation_rate = jan_2007['Labor Force Participation Rate'].values[0]\n",
      "employed = jan_2007['Employed'].values[0]\n",
      "\n",
      "# Print the results\n",
      "print(f\"Labor Force Participation Rate in Maryland in January 2007: {labor_force_participation_rate}%\")\n",
      "print(f\"Number of people employed in Maryland in January 2007: {employed}\")\n",
      "\n",
      "# Save the results to a CSV file\n",
      "result_df = pd.DataFrame({\n",
      "    'Metric': ['Labor Force Participation Rate', 'Employed'],\n",
      "    'Value': [labor_force_participation_rate, employed]\n",
      "})\n",
      "result_df.to_csv('/tmp/b45ce0e8-9541-407a-9fc7-ff207a7108bc.csv', index=False, float_format='%.2f')\n",
      "\n",
      "print(\"Python code provided above will give answer to the user question\")\n"
     ]
    }
   ],
   "source": [
    "try:\n",
    "    uuid_str = uuid.uuid4()\n",
    "    resulting_fig_filepath = f\"/tmp/{uuid_str}.png\"\n",
    "    resulting_csv_filepath = f\"/tmp/{uuid_str}.csv\"\n",
    "    \n",
    "    pandas_code = execute_pandas_agent_chain(\n",
    "        question,\n",
    "        uuid_str,\n",
    "        resulting_csv_filepath,\n",
    "        resulting_fig_filepath,\n",
    "        csv_file_paths\n",
    "    )\n",
    "except Exception as ex:\n",
    "    print(ex)\n",
    "    python_code = None"
   ]
  },
  {
   "cell_type": "code",
   "execution_count": null,
   "id": "de23ffb9-68a5-4862-8afa-f308ff70c54a",
   "metadata": {},
   "outputs": [],
   "source": []
  },
  {
   "cell_type": "code",
   "execution_count": 235,
   "id": "c10e794f-2f25-4f19-b1eb-760cecf1e259",
   "metadata": {},
   "outputs": [
    {
     "name": "stdout",
     "output_type": "stream",
     "text": [
      "Metric,Value\n",
      "Labor Force Participation Rate,69.00\n",
      "Employed,2864870.00\n"
     ]
    }
   ],
   "source": [
    "!head -10 /tmp/b45ce0e8-9541-407a-9fc7-ff207a7108bc.csv"
   ]
  },
  {
   "cell_type": "code",
   "execution_count": null,
   "id": "d5e33a70-7226-499b-81ab-d4acf7d49af3",
   "metadata": {},
   "outputs": [],
   "source": []
  },
  {
   "cell_type": "code",
   "execution_count": null,
   "id": "dd7d6920-4d23-43f5-a0e6-c6a871d87fe2",
   "metadata": {},
   "outputs": [],
   "source": []
  },
  {
   "cell_type": "markdown",
   "id": "6339c5cb-02d5-4083-bddb-af9a3b03db84",
   "metadata": {},
   "source": [
    "## Answer generation from data"
   ]
  },
  {
   "cell_type": "code",
   "execution_count": null,
   "id": "b5f6d78c-a18e-4d1d-b68b-e7bb9242d4bb",
   "metadata": {},
   "outputs": [],
   "source": []
  },
  {
   "cell_type": "code",
   "execution_count": 236,
   "id": "d76a9d66-5252-48a7-aaf3-fad4bfae31b8",
   "metadata": {},
   "outputs": [],
   "source": [
    "answer_prompt_template = \"\"\"\\\n",
    "You are provided with the user data question and resulting csv dataframe in markdown string for that user question.\n",
    "Please give answer for that question by analysing the result provided.\n",
    "\n",
    "User question is as follow:\n",
    "{question}\n",
    "\n",
    "Resulting csv file dataframe in markdown string is as follow:\n",
    "{df_md}\n",
    "\n",
    "Please use format specified below to give your final answer.\n",
    "{format_instructions}\n",
    "\n",
    "NO PREMABLE and NO POSTAMBLE\n",
    "\n",
    "Your Answer: \n",
    "\n",
    "\n",
    "\"\"\""
   ]
  },
  {
   "cell_type": "code",
   "execution_count": 237,
   "id": "64667e35-1621-436a-944c-cff83b3f56d6",
   "metadata": {},
   "outputs": [],
   "source": [
    "answer_schemas = [\n",
    "    ResponseSchema(\n",
    "        name=\"answer\", \n",
    "        description=\"Answer for the user question.\",\n",
    "        type=\"string\"\n",
    "    )\n",
    "]\n",
    "\n",
    "answer_parser = StructuredOutputParser.from_response_schemas(answer_schemas)\n",
    "\n",
    "answer_prompt = PromptTemplate(\n",
    "    template=answer_prompt_template,\n",
    "    input_variables=[\"question\", \"df_md\"],\n",
    "    partial_variables={\"format_instructions\": answer_parser.get_format_instructions()},\n",
    ")\n",
    "\n",
    "answer_chain = answer_prompt | bedrock_llm | answer_parser"
   ]
  },
  {
   "cell_type": "code",
   "execution_count": null,
   "id": "d5ca965c-1a7f-49ea-9207-4226c3215580",
   "metadata": {},
   "outputs": [],
   "source": []
  },
  {
   "cell_type": "code",
   "execution_count": 239,
   "id": "8a90995f-4409-43c3-803c-62a1faea75bd",
   "metadata": {},
   "outputs": [],
   "source": [
    "def prepare_df_md(resulting_csv_filepath):\n",
    "    df = pd.read_csv(resulting_csv_filepath)\n",
    "    df = df.head(10)\n",
    "    df_md = df.to_markdown(index=False)\n",
    "    return df_md"
   ]
  },
  {
   "cell_type": "code",
   "execution_count": null,
   "id": "730fd92e-a0df-46bd-9183-b2395d014dd1",
   "metadata": {},
   "outputs": [],
   "source": []
  },
  {
   "cell_type": "code",
   "execution_count": 241,
   "id": "d2dd0c1c-c573-4bdd-a91c-78083b8d7a57",
   "metadata": {},
   "outputs": [],
   "source": [
    "def prepare_answer(question, resulting_csv_filepath):\n",
    "    df_md = prepare_df_md(resulting_csv_filepath)\n",
    "    \n",
    "    answer_chain_response = answer_chain.invoke({\n",
    "        \"question\": question,\n",
    "        \"df_md\": df_md\n",
    "    })\n",
    "    return answer_chain_response['answer']"
   ]
  },
  {
   "cell_type": "code",
   "execution_count": null,
   "id": "e8acf029-68b5-41f3-9d6c-d7bb8cfcdda5",
   "metadata": {},
   "outputs": [],
   "source": []
  },
  {
   "cell_type": "code",
   "execution_count": 242,
   "id": "4efcecc3-9817-4faf-a2ac-5d8a465826ec",
   "metadata": {},
   "outputs": [
    {
     "name": "stdout",
     "output_type": "stream",
     "text": [
      "In January 2007, the labor force participation rate in Maryland was 69%. At that time, approximately 2,864,870 people were employed in the state.\n"
     ]
    }
   ],
   "source": [
    "answer = prepare_answer(\n",
    "    question,\n",
    "    \"/tmp/3fc1ee67-6d99-4358-aa4f-483c74f6b2e4.csv\"\n",
    ")\n",
    "print(answer)"
   ]
  },
  {
   "cell_type": "code",
   "execution_count": null,
   "id": "cf914ff3-23bd-4977-9d77-05f52c26fd6f",
   "metadata": {},
   "outputs": [],
   "source": []
  },
  {
   "cell_type": "code",
   "execution_count": null,
   "id": "e1776a5c-ba74-4ca0-91a5-0605a9390573",
   "metadata": {},
   "outputs": [],
   "source": []
  },
  {
   "cell_type": "code",
   "execution_count": 243,
   "id": "c775ee5f-fc6e-4f7d-bad8-4c7c717c276c",
   "metadata": {},
   "outputs": [],
   "source": [
    "def save_pandas_code(pandas_code, pandas_code_filepath):\n",
    "    with open(pandas_code_filepath, 'w') as wf:\n",
    "        wf.write(pandas_code)\n",
    "    return pandas_code_filepath"
   ]
  },
  {
   "cell_type": "code",
   "execution_count": null,
   "id": "831836e6-08fe-42af-87db-9affb3dd30b9",
   "metadata": {},
   "outputs": [],
   "source": []
  },
  {
   "cell_type": "code",
   "execution_count": 244,
   "id": "6c3c131b-4811-49f4-8a00-351e65a22d86",
   "metadata": {},
   "outputs": [],
   "source": [
    "def execute_pandas_code(pandas_code_filepath):\n",
    "    process = subprocess.Popen([\"python3\", pandas_code_filepath], stdout=subprocess.PIPE, stderr=subprocess.PIPE, text=True)\n",
    "    output, error = process.communicate()\n",
    "    if error:\n",
    "        print(\"Error on executing code ::: \", error)\n",
    "        success = False\n",
    "    else:\n",
    "        success = True\n",
    "    return success, error"
   ]
  },
  {
   "cell_type": "code",
   "execution_count": null,
   "id": "0b84d8de-b373-4d6a-891c-47459c3a11ed",
   "metadata": {},
   "outputs": [],
   "source": []
  },
  {
   "cell_type": "markdown",
   "id": "33e7e1e0-0aff-4c49-baaf-7934947b8196",
   "metadata": {
    "scrolled": true
   },
   "source": [
    "## Langgraph Implementation"
   ]
  },
  {
   "cell_type": "code",
   "execution_count": null,
   "id": "36064af8-be66-4e3d-b732-97cb182a89d4",
   "metadata": {},
   "outputs": [],
   "source": []
  },
  {
   "cell_type": "code",
   "execution_count": 245,
   "id": "94e34f09-1593-4021-830a-106f224f548b",
   "metadata": {},
   "outputs": [],
   "source": [
    "from langgraph.graph import START, END, StateGraph\n",
    "from IPython.display import Image, display\n",
    "from typing import List\n",
    "from typing_extensions import TypedDict"
   ]
  },
  {
   "cell_type": "code",
   "execution_count": null,
   "id": "39153352-f3fd-4c3f-b3d2-0ef9b39fa767",
   "metadata": {},
   "outputs": [],
   "source": []
  },
  {
   "cell_type": "code",
   "execution_count": 251,
   "id": "8d46b8f7-0979-475a-9ad2-0c4013dc07cb",
   "metadata": {},
   "outputs": [],
   "source": [
    "class GraphState(TypedDict):\n",
    "    \"\"\"\n",
    "    question : user question\n",
    "    uuid_str : uuid string for making file names\n",
    "    namespace : pinecone index namespace\n",
    "    top_k : number of relevant docs to retrieve\n",
    "    csv_file_paths: csv file paths that could solve user question\n",
    "    csv_file_paths_context : csv file descriptions from vector store\n",
    "    pandas_code : pandas code obtained from LLM\n",
    "    pandas_code_filepath : pandas code saved file path\n",
    "    resulting_csv_filepath : csv file path where resulting dataframe is saved after code execution\n",
    "    resulting_fig_filepath : fig file path where resulting figure is saved after code execution\n",
    "    pandas_code_executed : wether pandas code executed or not\n",
    "    answer : answer of the question or fallback message\n",
    "    \"\"\"\n",
    "    question: str\n",
    "    uuid_str: str\n",
    "    namespace: str\n",
    "    top_k: int\n",
    "    csv_file_paths_context: str\n",
    "    csv_file_paths: List[str]\n",
    "    pandas_code: str\n",
    "    pandas_code_filepath: str\n",
    "    resulting_csv_filepath: str\n",
    "    resulting_fig_filepath: str\n",
    "    pandas_code_executed: bool\n",
    "    answer: str"
   ]
  },
  {
   "cell_type": "code",
   "execution_count": null,
   "id": "ac87dc78-65e3-4535-b3fe-8d05695a2c9a",
   "metadata": {},
   "outputs": [],
   "source": []
  },
  {
   "cell_type": "code",
   "execution_count": 253,
   "id": "fe5f541a-0027-4901-91c5-19c245c45290",
   "metadata": {},
   "outputs": [],
   "source": [
    "def retrieve_csv_file_paths_context(state):\n",
    "    print(\"----- RETRIEVE RELEVANT CSV FILE CONTEXT -----\")\n",
    "\n",
    "    question = state[\"question\"]\n",
    "    namespace = state[\"namespace\"]\n",
    "    top_k = state[\"top_k\"]\n",
    "\n",
    "    docs = pinecone_similarity_search(\n",
    "        question,\n",
    "        k=top_k,\n",
    "        namespace=namespace\n",
    "    )\n",
    "    csv_file_paths_context = prepare_csv_file_context(docs)\n",
    "    \n",
    "    return {\n",
    "        \"csv_file_paths_context\": csv_file_paths_context\n",
    "    }\n",
    "\n",
    "\n",
    "def extract_csv_file_paths(state):\n",
    "    print(\"----- EXTRACT CSV PATHS -----\")\n",
    "    \n",
    "    question = state[\"question\"]\n",
    "    csv_file_paths_context = state[\"csv_file_paths_context\"]\n",
    "\n",
    "    csv_file_path_chain_response = csv_file_path_chain.invoke({\n",
    "        \"question\": question,\n",
    "        \"csv_file_context\": csv_file_paths_context\n",
    "    })\n",
    "    csv_file_paths = csv_file_path_chain_response[\"csv_file_paths\"]\n",
    "    \n",
    "    return {\n",
    "        \"csv_file_paths\": csv_file_paths\n",
    "    }\n",
    "\n",
    "\n",
    "def generate_pandas_code(state):\n",
    "    print(\"----- GENERATE PANDAS CODE -----\")\n",
    "\n",
    "    question = state[\"question\"]\n",
    "    uuid_str = state[\"uuid_str\"]\n",
    "\n",
    "    resulting_csv_filepath = f\"/tmp/{uuid_str}.csv\"\n",
    "    resulting_fig_filepath = f\"/tmp/{uuid_str}.png\"\n",
    "    \n",
    "    try:\n",
    "        pandas_code = execute_pandas_agent_chain(\n",
    "            question,\n",
    "            uuid_str,\n",
    "            resulting_csv_filepath,\n",
    "            resulting_fig_filepath,\n",
    "            csv_file_paths\n",
    "        )\n",
    "    except Exception as ex:\n",
    "        print(ex)\n",
    "        python_code = None\n",
    "    \n",
    "    if pandas_code:\n",
    "        return {\n",
    "            \"pandas_code\": pandas_code,\n",
    "            \"resulting_csv_filepath\": resulting_csv_filepath,\n",
    "            \"resulting_fig_filepath\": resulting_fig_filepath,\n",
    "            \"pandas_code_executed\": True\n",
    "        }\n",
    "    else:\n",
    "        return {\n",
    "            \"pandas_code_executed\": False\n",
    "        }\n",
    "\n",
    "\n",
    "def check_if_pandas_code_executed_successfully(state):\n",
    "    print(\"----- CHECK IF PANDAS CODE EXECUTED SUCCESSFULLY -----\")\n",
    "\n",
    "    pandas_code_executed = state[\"pandas_code_executed\"]\n",
    "    if pandas_code_executed:\n",
    "        return \"generate_answer_for_question\"\n",
    "    else:\n",
    "        return \"pandas_code_execution_fallback\"\n",
    "\n",
    "\n",
    "def pandas_code_execution_fallback(state):\n",
    "    print(\"----- PANDAS CODE EXECUTION FALLBACK -----\")\n",
    "\n",
    "    return {\n",
    "        \"answer\": \"Failed to execute pandas code; may be code generate was wrong with multiple retries. Please try again later!\"\n",
    "    }\n",
    "\n",
    "\n",
    "def generate_answer_for_question(state):\n",
    "    print(\"----- GENERATE ANSWER FOR QUESTION -----\")\n",
    "\n",
    "    question = state[\"question\"]\n",
    "    resulting_csv_filepath = state[\"resulting_csv_filepath\"]\n",
    "    \n",
    "    df_md = prepare_df_md(resulting_csv_filepath)\n",
    "    \n",
    "    answer_chain_response = answer_chain.invoke({\n",
    "        \"question\": question,\n",
    "        \"df_md\": df_md\n",
    "    })\n",
    "    answer = answer_chain_response['answer']\n",
    "\n",
    "    return {\n",
    "        \"answer\": answer\n",
    "    }\n",
    "    \n",
    "\n",
    "def final_response(state):\n",
    "    print(\"----- FINAL RESPONSE -----\")\n",
    "    \n",
    "    answer = state[\"answer\"]\n",
    "\n",
    "    return {\n",
    "        \"answer\": answer\n",
    "    }"
   ]
  },
  {
   "cell_type": "code",
   "execution_count": null,
   "id": "534ade1e-5d0e-4c76-8c31-09b2bd07b9f2",
   "metadata": {},
   "outputs": [],
   "source": []
  },
  {
   "cell_type": "code",
   "execution_count": 254,
   "id": "8734225a-aa32-46d4-a62f-2f853cbef6da",
   "metadata": {},
   "outputs": [
    {
     "data": {
      "image/jpeg": "[encoded data removed]",
      "text/plain": [
       "<IPython.core.display.Image object>"
      ]
     },
     "metadata": {},
     "output_type": "display_data"
    }
   ],
   "source": [
    "workflow = StateGraph(GraphState)\n",
    "\n",
    "workflow.add_node(\"retrieve_csv_file_paths_context\", retrieve_csv_file_paths_context)\n",
    "workflow.add_node(\"extract_csv_file_paths\", extract_csv_file_paths)\n",
    "workflow.add_node(\"generate_pandas_code\", generate_pandas_code)\n",
    "workflow.add_node(\"pandas_code_execution_fallback\", pandas_code_execution_fallback)\n",
    "workflow.add_node(\"generate_answer_for_question\", generate_answer_for_question)\n",
    "workflow.add_node(\"final_response\", final_response)\n",
    "\n",
    "workflow.add_edge(\"retrieve_csv_file_paths_context\", \"extract_csv_file_paths\")\n",
    "workflow.add_edge(\"extract_csv_file_paths\", \"generate_pandas_code\")\n",
    "\n",
    "workflow.add_conditional_edges(\n",
    "    \"generate_pandas_code\",\n",
    "    check_if_pandas_code_executed_successfully,\n",
    "    {\n",
    "        \"pandas_code_execution_fallback\": \"pandas_code_execution_fallback\",\n",
    "        \"generate_answer_for_question\": \"generate_answer_for_question\"\n",
    "    }\n",
    ")\n",
    "\n",
    "workflow.add_edge(\"pandas_code_execution_fallback\", \"final_response\")\n",
    "workflow.add_edge(\"generate_answer_for_question\", \"final_response\")\n",
    "\n",
    "workflow.add_edge(START, \"retrieve_csv_file_paths_context\")\n",
    "workflow.add_edge(\"final_response\", END)\n",
    "\n",
    "app = workflow.compile()\n",
    "\n",
    "display(Image(app.get_graph(xray=True).draw_mermaid_png()))"
   ]
  },
  {
   "cell_type": "code",
   "execution_count": null,
   "id": "4d00f390-c4ff-46bd-82e5-0f5d7b7a3e8f",
   "metadata": {},
   "outputs": [],
   "source": []
  },
  {
   "cell_type": "code",
   "execution_count": 255,
   "id": "f264da49-ce66-4f25-ac86-00e11daaecfa",
   "metadata": {},
   "outputs": [
    {
     "name": "stdout",
     "output_type": "stream",
     "text": [
      "----- RETRIEVE RELEVANT CSV FILE CONTEXT -----\n",
      "----- EXTRACT CSV PATHS -----\n",
      "----- GENERATE PANDAS CODE -----\n",
      "\n",
      "\n",
      "\u001b[1m> Entering new AgentExecutor chain...\u001b[0m\n",
      "\u001b[32;1m\u001b[1;3mTo answer the user's question about the labor force participation rate in Maryland in January 2007 and the number of people employed, I'll need to write Python code to read the CSV file, process the data, and extract the required information. Here's the code to do that:\n",
      "\n",
      "Action: python_repl_ast\n",
      "Action Input:\n",
      "```python\n",
      "import warnings\n",
      "warnings.filterwarnings(\"ignore\")\n",
      "\n",
      "import pandas as pd\n",
      "import numpy as np\n",
      "\n",
      "# Read the CSV file\n",
      "df = pd.read_csv('./datasets/Employment_Unemployment_and_Labor_Force_Data.csv')\n",
      "\n",
      "# Convert Date to datetime\n",
      "df['Date'] = pd.to_datetime(df['Date'])\n",
      "\n",
      "# Handle NaN values\n",
      "df.ffill(inplace=True)\n",
      "df.dropna(inplace=True)\n",
      "\n",
      "# Filter data for January 2007\n",
      "jan_2007 = df[(df['Year'] == 2007) & (df['Month'] == 1)]\n",
      "\n",
      "# Extract required information\n",
      "labor_force_participation_rate = jan_2007['Labor Force Participation Rate'].values[0]\n",
      "employed = jan_2007['Employed'].values[0]\n",
      "\n",
      "# Print the results\n",
      "print(f\"Labor Force Participation Rate in Maryland in January 2007: {labor_force_participation_rate}%\")\n",
      "print(f\"Number of people employed in Maryland in January 2007: {employed}\")\n",
      "\n",
      "# Save the results to a CSV file\n",
      "result_df = pd.DataFrame({\n",
      "    'Metric': ['Labor Force Participation Rate', 'Employed'],\n",
      "    'Value': [labor_force_participation_rate, employed]\n",
      "})\n",
      "result_df.to_csv('/tmp/87eb7b1e-dc77-40ac-b659-7cc0584b8b6f.csv', index=False, float_format='%.2f')\n",
      "\n",
      "print(\"Python code provided above will give answer to the user question\")\n",
      "```\n",
      "\u001b[0mLabor Force Participation Rate in Maryland in January 2007: 69.0%\n",
      "Number of people employed in Maryland in January 2007: 2864870\n",
      "\n",
      "Observation: \u001b[36;1m\u001b[1;3mPython code provided above will give answer to the user question\n",
      "\u001b[0m\n",
      "Thought:\u001b[32;1m\u001b[1;3mThe Python code has been executed successfully, and it provides the answer to the user's question. Here's the final answer:\n",
      "\n",
      "Final Answer: ```python\n",
      "import warnings\n",
      "warnings.filterwarnings(\"ignore\")\n",
      "\n",
      "import pandas as pd\n",
      "import numpy as np\n",
      "\n",
      "# Read the CSV file\n",
      "df = pd.read_csv('./datasets/Employment_Unemployment_and_Labor_Force_Data.csv')\n",
      "\n",
      "# Convert Date to datetime\n",
      "df['Date'] = pd.to_datetime(df['Date'])\n",
      "\n",
      "# Handle NaN values\n",
      "df.ffill(inplace=True)\n",
      "df.dropna(inplace=True)\n",
      "\n",
      "# Filter data for January 2007\n",
      "jan_2007 = df[(df['Year'] == 2007) & (df['Month'] == 1)]\n",
      "\n",
      "# Extract required information\n",
      "labor_force_participation_rate = jan_2007['Labor Force Participation Rate'].values[0]\n",
      "employed = jan_2007['Employed'].values[0]\n",
      "\n",
      "# Print the results\n",
      "print(f\"Labor Force Participation Rate in Maryland in January 2007: {labor_force_participation_rate}%\")\n",
      "print(f\"Number of people employed in Maryland in January 2007: {employed}\")\n",
      "\n",
      "# Save the results to a CSV file\n",
      "result_df = pd.DataFrame({\n",
      "    'Metric': ['Labor Force Participation Rate', 'Employed'],\n",
      "    'Value': [labor_force_participation_rate, employed]\n",
      "})\n",
      "result_df.to_csv('/tmp/87eb7b1e-dc77-40ac-b659-7cc0584b8b6f.csv', index=False, float_format='%.2f')\n",
      "\n",
      "print(\"Python code provided above will give answer to the user question\")\n",
      "```\u001b[0m\n",
      "\n",
      "\u001b[1m> Finished chain.\u001b[0m\n",
      "\n",
      "\n",
      "Python code is ::: \n",
      "\n",
      " import warnings\n",
      "warnings.filterwarnings(\"ignore\")\n",
      "\n",
      "import pandas as pd\n",
      "import numpy as np\n",
      "\n",
      "# Read the CSV file\n",
      "df = pd.read_csv('./datasets/Employment_Unemployment_and_Labor_Force_Data.csv')\n",
      "\n",
      "# Convert Date to datetime\n",
      "df['Date'] = pd.to_datetime(df['Date'])\n",
      "\n",
      "# Handle NaN values\n",
      "df.ffill(inplace=True)\n",
      "df.dropna(inplace=True)\n",
      "\n",
      "# Filter data for January 2007\n",
      "jan_2007 = df[(df['Year'] == 2007) & (df['Month'] == 1)]\n",
      "\n",
      "# Extract required information\n",
      "labor_force_participation_rate = jan_2007['Labor Force Participation Rate'].values[0]\n",
      "employed = jan_2007['Employed'].values[0]\n",
      "\n",
      "# Print the results\n",
      "print(f\"Labor Force Participation Rate in Maryland in January 2007: {labor_force_participation_rate}%\")\n",
      "print(f\"Number of people employed in Maryland in January 2007: {employed}\")\n",
      "\n",
      "# Save the results to a CSV file\n",
      "result_df = pd.DataFrame({\n",
      "    'Metric': ['Labor Force Participation Rate', 'Employed'],\n",
      "    'Value': [labor_force_participation_rate, employed]\n",
      "})\n",
      "result_df.to_csv('/tmp/87eb7b1e-dc77-40ac-b659-7cc0584b8b6f.csv', index=False, float_format='%.2f')\n",
      "\n",
      "print(\"Python code provided above will give answer to the user question\")\n",
      "----- CHECK IF PANDAS CODE EXECUTED SUCCESSFULLY -----\n",
      "----- GENERATE ANSWER FOR QUESTION -----\n",
      "----- FINAL RESPONSE -----\n",
      "In January 2007, the labor force participation rate in Maryland was 69%. At that time, approximately 2,864,870 people were employed in the state.\n"
     ]
    }
   ],
   "source": [
    "question = \"What was the labor force participation rate in Maryland in January 2007, and how many people were employed?\"\n",
    "inputs = {\n",
    "    \"question\": question,\n",
    "    \"uuid_str\": str(uuid.uuid4()),\n",
    "    \"namespace\": namespace,\n",
    "    \"top_k\": 1\n",
    "}\n",
    "\n",
    "output = app.invoke(inputs)\n",
    "print(output[\"answer\"])"
   ]
  },
  {
   "cell_type": "code",
   "execution_count": null,
   "id": "52b191ff-e9f8-4f4a-81dc-e2de4ab663b7",
   "metadata": {},
   "outputs": [],
   "source": []
  },
  {
   "cell_type": "code",
   "execution_count": null,
   "id": "e47e9029-6777-42fa-9ccf-c599db3c572e",
   "metadata": {},
   "outputs": [],
   "source": []
  },
  {
   "cell_type": "code",
   "execution_count": null,
   "id": "347e6685-8c44-4299-a087-ac8d82768b8d",
   "metadata": {},
   "outputs": [],
   "source": []
  },
  {
   "cell_type": "code",
   "execution_count": null,
   "id": "6be2bab1-c207-4f97-909e-fa2f8b518ba6",
   "metadata": {},
   "outputs": [],
   "source": []
  },
  {
   "cell_type": "code",
   "execution_count": null,
   "id": "454caa94-d877-46ce-b7ed-f154f2250c84",
   "metadata": {},
   "outputs": [],
   "source": []
  },
  {
   "cell_type": "code",
   "execution_count": null,
   "id": "d8d491e8-f229-4298-83e1-71a41f31085d",
   "metadata": {},
   "outputs": [],
   "source": []
  }
 ],
 "metadata": {
  "kernelspec": {
   "display_name": "Python 3 (ipykernel)",
   "language": "python",
   "name": "python3"
  },
  "language_info": {
   "codemirror_mode": {
    "name": "ipython",
    "version": 3
   },
   "file_extension": ".py",
   "mimetype": "text/x-python",
   "name": "python",
   "nbconvert_exporter": "python",
   "pygments_lexer": "ipython3",
   "version": "3.11.7"
  }
 },
 "nbformat": 4,
 "nbformat_minor": 5
}
