{
 "cells": [
  {
   "cell_type": "code",
   "execution_count": 51,
   "id": "d8c739d5-9d12-4373-a176-89c07b8d41c6",
   "metadata": {},
   "outputs": [],
   "source": [
    "import boto3\n",
    "from langchain_aws import BedrockEmbeddings, ChatBedrock"
   ]
  },
  {
   "cell_type": "code",
   "execution_count": 52,
   "id": "81c9f663-d236-43a4-b5a5-8f4bd1300a0a",
   "metadata": {},
   "outputs": [],
   "source": [
    "session = boto3.Session(profile_name='genese-llm-acc')\n",
    "bedrock_client = session.client('bedrock-runtime' , 'us-east-1', endpoint_url='https://bedrock-runtime.us-east-1.amazonaws.com')"
   ]
  },
  {
   "cell_type": "code",
   "execution_count": 56,
   "id": "ba7e56b3-1e82-4cb9-9657-48df80252ac6",
   "metadata": {},
   "outputs": [],
   "source": [
    "bedrock_embeddings = BedrockEmbeddings(\n",
    "    client=bedrock_client\n",
    ")\n",
    "\n",
    "bedrock_llm = ChatBedrock(\n",
    "    model_id=\"anthropic.claude-3-5-sonnet-20240620-v1:0\",\n",
    "    client=bedrock_client,\n",
    "    model_kwargs={\"temperature\": 0.0}\n",
    ")"
   ]
  },
  {
   "cell_type": "code",
   "execution_count": null,
   "id": "8e764451-7b9e-49b9-8961-8cb6a659ba6a",
   "metadata": {},
   "outputs": [],
   "source": []
  },
  {
   "cell_type": "code",
   "execution_count": 57,
   "id": "506af251-e966-425a-866b-d8ced45a1aae",
   "metadata": {},
   "outputs": [
    {
     "data": {
      "text/plain": [
       "AIMessage(content='Hello! How can I assist you today? Feel free to ask me any questions or let me know if you need help with anything.', additional_kwargs={'usage': {'prompt_tokens': 8, 'completion_tokens': 30, 'total_tokens': 38}, 'stop_reason': 'end_turn', 'model_id': 'anthropic.claude-3-5-sonnet-20240620-v1:0'}, response_metadata={'usage': {'prompt_tokens': 8, 'completion_tokens': 30, 'total_tokens': 38}, 'stop_reason': 'end_turn', 'model_id': 'anthropic.claude-3-5-sonnet-20240620-v1:0'}, id='run-40095d2e-9aca-45e1-a3d8-4dd2533f7380-0')"
      ]
     },
     "execution_count": 57,
     "metadata": {},
     "output_type": "execute_result"
    }
   ],
   "source": [
    "bedrock_llm.invoke(input=\"hello\")"
   ]
  },
  {
   "cell_type": "code",
   "execution_count": null,
   "id": "b318ef93-aa99-4087-a0c3-5f66af3253a3",
   "metadata": {},
   "outputs": [],
   "source": []
  },
  {
   "cell_type": "code",
   "execution_count": 58,
   "id": "6a5328da-4f97-473d-b033-0b1737de8731",
   "metadata": {},
   "outputs": [],
   "source": [
    "from langchain_core.pydantic_v1 import BaseModel, Field\n",
    "\n",
    "class Joke(BaseModel):\n",
    "    setup: str = Field(description=\"The setup of the joke\")\n",
    "    punchline: str = Field(description=\"The punchline to the joke\")"
   ]
  },
  {
   "cell_type": "code",
   "execution_count": null,
   "id": "fddbe74a-805c-45db-83dd-2996085cb6ba",
   "metadata": {},
   "outputs": [],
   "source": []
  },
  {
   "cell_type": "code",
   "execution_count": 59,
   "id": "7b371843-cb70-4b2f-b4ea-abdd0a193d48",
   "metadata": {},
   "outputs": [],
   "source": [
    "from langchain.output_parsers import ResponseSchema, StructuredOutputParser\n",
    "from langchain_core.prompts import PromptTemplate"
   ]
  },
  {
   "cell_type": "code",
   "execution_count": 60,
   "id": "c5107285-e871-460b-a666-cb783144e70e",
   "metadata": {},
   "outputs": [],
   "source": [
    "response_schemas = [\n",
    "    ResponseSchema(\n",
    "        name=\"setup\", \n",
    "        description=\"The setup of the joke.\"\n",
    "    ),\n",
    "    ResponseSchema(\n",
    "        name=\"punchline\",\n",
    "        description=\"The punchline to the joke.\",\n",
    "    )\n",
    "]\n",
    "output_parser = StructuredOutputParser.from_response_schemas(response_schemas)"
   ]
  },
  {
   "cell_type": "code",
   "execution_count": 61,
   "id": "2c8a73b6-82dd-43c0-8896-5b963a5a97b1",
   "metadata": {},
   "outputs": [],
   "source": [
    "format_instructions = output_parser.get_format_instructions()\n",
    "prompt = PromptTemplate(\n",
    "    template=\"answer the user question as best as possible.\\n{format_instructions}\\n{question}\",\n",
    "    input_variables=[\"question\"],\n",
    "    partial_variables={\"format_instructions\": format_instructions},\n",
    ")"
   ]
  },
  {
   "cell_type": "code",
   "execution_count": 62,
   "id": "e4b12c75-cc93-4309-8b33-50ca706b3114",
   "metadata": {},
   "outputs": [],
   "source": [
    "bedrock_llm_chain = prompt | bedrock_llm | output_parser"
   ]
  },
  {
   "cell_type": "code",
   "execution_count": null,
   "id": "e16e96ff-6cd4-4916-b479-3990e495184d",
   "metadata": {},
   "outputs": [],
   "source": []
  },
  {
   "cell_type": "code",
   "execution_count": 63,
   "id": "6688fbf4-4dba-4546-834a-8e5411f5dae6",
   "metadata": {},
   "outputs": [],
   "source": [
    "response = bedrock_llm_chain.invoke({\"question\": \"Tell me a joke about cats\"})"
   ]
  },
  {
   "cell_type": "code",
   "execution_count": 64,
   "id": "32e770c2-cef6-4e8d-aff1-8951330595de",
   "metadata": {},
   "outputs": [
    {
     "data": {
      "text/plain": [
       "{'setup': \"Why don't cats play poker in the jungle?\",\n",
       " 'punchline': 'Too many cheetahs!'}"
      ]
     },
     "execution_count": 64,
     "metadata": {},
     "output_type": "execute_result"
    }
   ],
   "source": [
    "response"
   ]
  },
  {
   "cell_type": "code",
   "execution_count": 65,
   "id": "98adf646-39be-4ec4-8238-321871cfa665",
   "metadata": {},
   "outputs": [
    {
     "data": {
      "text/plain": [
       "\"Why don't cats play poker in the jungle?\""
      ]
     },
     "execution_count": 65,
     "metadata": {},
     "output_type": "execute_result"
    }
   ],
   "source": [
    "response[\"setup\"]"
   ]
  },
  {
   "cell_type": "code",
   "execution_count": 66,
   "id": "a6814c90-59e1-4a68-ac6e-445db6c9cb28",
   "metadata": {},
   "outputs": [
    {
     "data": {
      "text/plain": [
       "'Too many cheetahs!'"
      ]
     },
     "execution_count": 66,
     "metadata": {},
     "output_type": "execute_result"
    }
   ],
   "source": [
    "response[\"punchline\"]"
   ]
  },
  {
   "cell_type": "code",
   "execution_count": null,
   "id": "f0f3fbe3-dfe1-420f-83c4-c5c55ae219c8",
   "metadata": {},
   "outputs": [],
   "source": []
  },
  {
   "cell_type": "code",
   "execution_count": 67,
   "id": "9bfe73c7-8acf-4ac3-a161-647f658107c4",
   "metadata": {},
   "outputs": [],
   "source": [
    "from langchain.agents.agent_types import AgentType\n",
    "from langchain_experimental.agents.agent_toolkits import create_python_agent\n",
    "from langchain_experimental.tools import PythonAstREPLTool"
   ]
  },
  {
   "cell_type": "code",
   "execution_count": 68,
   "id": "da472394-287e-41f1-af58-af187edfe61b",
   "metadata": {},
   "outputs": [],
   "source": [
    "code_executor = create_python_agent(\n",
    "    llm=bedrock_llm,\n",
    "    tool=PythonAstREPLTool(),\n",
    "    verbose=True,\n",
    "    agent_type=AgentType.ZERO_SHOT_REACT_DESCRIPTION,\n",
    "    agent_executor_kwargs={\n",
    "        \"handle_parsing_errors\": True, \n",
    "        \"max_iterations\": 10, \n",
    "        \"early_stopping_method\": \"generate\"\n",
    "    }\n",
    ")"
   ]
  },
  {
   "cell_type": "code",
   "execution_count": null,
   "id": "74669aba-bda2-4e92-a015-73cd10d0d3d9",
   "metadata": {},
   "outputs": [],
   "source": []
  },
  {
   "cell_type": "code",
   "execution_count": 69,
   "id": "d9e2b453-e2b6-42f5-82b5-fafcd49aba3e",
   "metadata": {},
   "outputs": [],
   "source": [
    "csv_file_description = {\n",
    "    \"./datasets/Border_Crossing_Entry_Data.csv\": \"Border Crossing Entry Data - This dataset provides statistics on inbound crossings at the U.S.-Canada and U.S.-Mexico borders, detailing counts for trucks, trains, containers, buses, personal vehicles, passengers, and pedestrians. Collected by U.S. Customs and Border Protection, the data only covers entries into the U.S.\",\n",
    "    \"./datasets/Employment_Unemployment_and_Labor_Force_Data.csv\": \"Employment Unemployment and Labor Force Data - This dataset uses seasonally adjusted data from the US Bureau of Labor Statistics to present information on Maryland's labor force participation rate, employment rate, and unemployment rate.\",\n",
    "    \"./datasets/NYPD_Shooting_Incident_Data_2006.csv\": \"NYPD Shooting Incident Data 2006 - This dataset provides a detailed breakdown of every shooting incident in NYC from 2006 through the end of the previous calendar year. It includes event details, location, time, and suspect and victim demographics.\",\n",
    "    \"./datasets/Warehouse_and_Retail_Sales.csv\": \"Warehouse and Retail Sales - This dataset contains a list of sales and movement data by item and department appended monthly.\"    \n",
    "}"
   ]
  },
  {
   "cell_type": "code",
   "execution_count": null,
   "id": "e87165d5-2e19-48d7-9879-86e20de25ce4",
   "metadata": {},
   "outputs": [],
   "source": []
  },
  {
   "cell_type": "code",
   "execution_count": 70,
   "id": "82d89800-5b8e-4655-a6e1-b9fca7b5a80b",
   "metadata": {},
   "outputs": [],
   "source": [
    "import pandas as pd"
   ]
  },
  {
   "cell_type": "code",
   "execution_count": null,
   "id": "f92171e6-f149-4fcb-9f48-92bcd144c6d9",
   "metadata": {},
   "outputs": [],
   "source": []
  },
  {
   "cell_type": "code",
   "execution_count": null,
   "id": "a1e2b198-8e92-438e-9852-d4d23181590f",
   "metadata": {},
   "outputs": [],
   "source": []
  },
  {
   "cell_type": "code",
   "execution_count": 71,
   "id": "199c347f-4ff7-4194-8431-b11accabcd15",
   "metadata": {},
   "outputs": [],
   "source": [
    "csv_file_path_prompt_template = \"\"\"\\\n",
    "You are provided with csv files with their file description and 2 sample rows in markdown format for additional context.\n",
    "You are also provided with user question and your task is to return csv file paths that could solve user question.\n",
    "\n",
    "User question is as follow:\n",
    "{question}\n",
    "\n",
    "CSV file context is as follow:\n",
    "{csv_file_context}\n",
    "\n",
    "Please give your final response in the format specified below:\n",
    "{format_instructions}\n",
    "\n",
    "NOTE: NO PREAMBLE AND NO POSTAMBLE. JUST GIVE THE DESIRED RESPONSE ONLY IN JSON.\n",
    "\n",
    "Your response: \n",
    "\n",
    "\n",
    "\"\"\""
   ]
  },
  {
   "cell_type": "code",
   "execution_count": 72,
   "id": "5217ab79-58eb-4988-b41b-373d75741e84",
   "metadata": {},
   "outputs": [],
   "source": [
    "def get_csv_file_context():\n",
    "    csv_file_context = \"\"\n",
    "    \n",
    "    for filepath, description in csv_file_description.items():\n",
    "        context = f\"For csv file path {filepath} it's file description is as follow:\\n\" + description\n",
    "        df = pd.read_csv(filepath).head(2)\n",
    "        df_md = df.to_markdown()\n",
    "        csv_file_context += context + \"It's sample rows in markdown format is as follow :\\n\" + df_md + \"\\n\\n\"\n",
    "    \n",
    "    csv_file_context = csv_file_context.strip()\n",
    "    return csv_file_context"
   ]
  },
  {
   "cell_type": "code",
   "execution_count": null,
   "id": "73ad8df9-ce59-41f4-bbeb-c1ec1d1eac18",
   "metadata": {},
   "outputs": [],
   "source": []
  },
  {
   "cell_type": "code",
   "execution_count": 73,
   "id": "b1726506-4b9f-49b6-ac31-1b1ba7c69f5f",
   "metadata": {},
   "outputs": [
    {
     "name": "stdout",
     "output_type": "stream",
     "text": [
      "For csv file path ./datasets/Border_Crossing_Entry_Data.csv it's file description is as follow:\n",
      "Border Crossing Entry Data - This dataset provides statistics on inbound crossings at the U.S.-Canada and U.S.-Mexico borders, detailing counts for trucks, trains, containers, buses, personal vehicles, passengers, and pedestrians. Collected by U.S. Customs and Border Protection, the data only covers entries into the U.S.It's sample rows in markdown format is as follow :\n",
      "|    | Port Name   | State   |   Port Code | Border           | Date     | Measure   |   Value |   Latitude |   Longitude | Point                         |\n",
      "|---:|:------------|:--------|------------:|:-----------------|:---------|:----------|--------:|-----------:|------------:|:------------------------------|\n",
      "|  0 | Roma        | Texas   |        2310 | US-Mexico Border | Dec 2023 | Buses     |      46 |     26.404 |     -99.019 | POINT (-99.018981 26.403928)  |\n",
      "|  1 | Del Rio     | Texas   |        2302 | US-Mexico Border | Dec 2023 | Trucks    |    6552 |     29.327 |    -100.928 | POINT (-100.927612 29.326784) |\n",
      "\n",
      "For csv file path ./datasets/Employment_Unemployment_and_Labor_Force_Data.csv it's file description is as follow:\n",
      "Employment Unemployment and Labor Force Data - This dataset uses seasonally adjusted data from the US Bureau of Labor Statistics to present information on Maryland's labor force participation rate, employment rate, and unemployment rate.It's sample rows in markdown format is as follow :\n",
      "|    | Date                   |   Year |   Month | Date Label   |   Civilian Non-institutional Population |   Civilian Labor Force |   Labor Force Participation Rate |   Employed |   Employment Rate |   Unemployed |   Unemployment Rate |\n",
      "|---:|:-----------------------|-------:|--------:|:-------------|----------------------------------------:|-----------------------:|---------------------------------:|-----------:|------------------:|-------------:|--------------------:|\n",
      "|  0 | 01/01/2007 12:00:00 AM |   2007 |       1 | Jan 2007     |                                 4312014 |                2973568 |                             69   |    2864870 |              66.4 |       108698 |                 3.7 |\n",
      "|  1 | 02/01/2007 12:00:00 AM |   2007 |       2 | Feb 2007     |                                 4314108 |                2970937 |                             68.9 |    2864666 |              66.4 |       106271 |                 3.6 |\n",
      "\n",
      "For csv file path ./datasets/NYPD_Shooting_Incident_Data_2006.csv it's file description is as follow:\n",
      "NYPD Shooting Incident Data 2006 - This dataset provides a detailed breakdown of every shooting incident in NYC from 2006 through the end of the previous calendar year. It includes event details, location, time, and suspect and victim demographics.It's sample rows in markdown format is as follow :\n",
      "|    |   INCIDENT_KEY | OCCUR_DATE   | OCCUR_TIME   | BORO      | LOC_OF_OCCUR_DESC   |   PRECINCT |   JURISDICTION_CODE | LOC_CLASSFCTN_DESC   | LOCATION_DESC   | STATISTICAL_MURDER_FLAG   | PERP_AGE_GROUP   | PERP_SEX   | PERP_RACE   | VIC_AGE_GROUP   | VIC_SEX   | VIC_RACE   |      X_COORD_CD |   Y_COORD_CD |   Latitude |   Longitude | Lon_Lat                     |\n",
      "|---:|---------------:|:-------------|:-------------|:----------|:--------------------|-----------:|--------------------:|:---------------------|:----------------|:--------------------------|:-----------------|:-----------|:------------|:----------------|:----------|:-----------|----------------:|-------------:|-----------:|------------:|:----------------------------|\n",
      "|  0 |      244608249 | 05/05/2022   | 00:10:00     | MANHATTAN | INSIDE              |         14 |                   0 | COMMERCIAL           | VIDEO STORE     | True                      | 25-44            | M          | BLACK       | 25-44           | M         | BLACK      | 986050          |       214231 |    40.7547 |    -73.9935 | POINT (-73.9935 40.754692)  |\n",
      "|  1 |      247542571 | 07/04/2022   | 22:20:00     | BRONX     | OUTSIDE             |         48 |                   0 | STREET               | (null)          | True                      | (null)           | (null)     | (null)      | 18-24           | M         | BLACK      |      1.0168e+06 |       250581 |    40.8544 |    -73.8823 | POINT (-73.88233 40.854402) |\n",
      "\n",
      "For csv file path ./datasets/Warehouse_and_Retail_Sales.csv it's file description is as follow:\n",
      "Warehouse and Retail Sales - This dataset contains a list of sales and movement data by item and department appended monthly.It's sample rows in markdown format is as follow :\n",
      "|    |   YEAR |   MONTH | SUPPLIER                          |   ITEM CODE | ITEM DESCRIPTION          | ITEM TYPE   |   RETAIL SALES |   RETAIL TRANSFERS |   WAREHOUSE SALES |\n",
      "|---:|-------:|--------:|:----------------------------------|------------:|:--------------------------|:------------|---------------:|-------------------:|------------------:|\n",
      "|  0 |   2020 |       1 | REPUBLIC NATIONAL DISTRIBUTING CO |      100009 | BOOTLEG RED - 750ML       | WINE        |              0 |                  0 |                 2 |\n",
      "|  1 |   2020 |       1 | PWSWN INC                         |      100024 | MOMENT DE PLAISIR - 750ML | WINE        |              0 |                  1 |                 4 |\n"
     ]
    }
   ],
   "source": [
    "csv_file_context = get_csv_file_context()\n",
    "print(csv_file_context)"
   ]
  },
  {
   "cell_type": "code",
   "execution_count": null,
   "id": "b1fdceec-c0f1-47a4-92eb-bec058afdf17",
   "metadata": {},
   "outputs": [],
   "source": []
  },
  {
   "cell_type": "code",
   "execution_count": null,
   "id": "c6a59a13-0a04-41b0-be37-d73fdf5f0775",
   "metadata": {},
   "outputs": [],
   "source": []
  },
  {
   "cell_type": "code",
   "execution_count": 74,
   "id": "8de6d6e2-c37b-4679-b951-98fdde34634b",
   "metadata": {},
   "outputs": [],
   "source": [
    "csv_filepath_schemas = [\n",
    "    ResponseSchema(\n",
    "        name=\"csv_file_paths\", \n",
    "        description=\"CSV file paths that could solve the user question.\",\n",
    "        type=\"array\"\n",
    "    ),\n",
    "    ResponseSchema(\n",
    "        name=\"explanation\",\n",
    "        description=\"Explanation on why the above csv filepaths were choosen.\",\n",
    "        type=\"string\"\n",
    "    )\n",
    "]\n",
    "\n",
    "csv_filepath_parser = StructuredOutputParser.from_response_schemas(csv_filepath_schemas)\n",
    "\n",
    "csv_file_path_prompt = PromptTemplate(\n",
    "    template=csv_file_path_prompt_template,\n",
    "    input_variables=[\"question\", \"csv_file_context\"],\n",
    "    partial_variables={\"format_instructions\": csv_filepath_parser.get_format_instructions()},\n",
    ")\n",
    "\n",
    "csv_file_path_chain = csv_file_path_prompt | bedrock_llm | csv_filepath_parser"
   ]
  },
  {
   "cell_type": "code",
   "execution_count": null,
   "id": "68d62f76-9c25-4453-a9ec-ccb55bc34853",
   "metadata": {},
   "outputs": [],
   "source": []
  },
  {
   "cell_type": "code",
   "execution_count": 75,
   "id": "d0f9feb2-bb38-4800-b84c-83522176479b",
   "metadata": {},
   "outputs": [
    {
     "data": {
      "text/plain": [
       "{'csv_file_paths': ['./datasets/Employment_Unemployment_and_Labor_Force_Data.csv'],\n",
       " 'explanation': \"The file './datasets/Employment_Unemployment_and_Labor_Force_Data.csv' contains the necessary information to answer the user's question about the labor force participation rate and employment in Maryland in January 2007. This dataset includes monthly data on labor force statistics for Maryland, including the labor force participation rate and the number of employed people. The sample data shows that it has entries for January 2007, which directly matches the time period specified in the question.\"}"
      ]
     },
     "execution_count": 75,
     "metadata": {},
     "output_type": "execute_result"
    }
   ],
   "source": [
    "csv_file_path_chain_response = csv_file_path_chain.invoke({\n",
    "    \"question\": \"What was the labor force participation rate in Maryland in January 2007, and how many people were employed?\",\n",
    "    \"csv_file_context\": csv_file_context\n",
    "})\n",
    "csv_file_path_chain_response"
   ]
  },
  {
   "cell_type": "code",
   "execution_count": null,
   "id": "14223536-b0fe-460c-8f60-58dedb8232e2",
   "metadata": {},
   "outputs": [],
   "source": []
  },
  {
   "cell_type": "code",
   "execution_count": null,
   "id": "2a301e7b-1e5a-4f14-b0ad-97f63e860dab",
   "metadata": {},
   "outputs": [],
   "source": []
  },
  {
   "cell_type": "code",
   "execution_count": 76,
   "id": "2b3ebcab-b5c2-42b7-b589-b321ca357b76",
   "metadata": {},
   "outputs": [],
   "source": [
    "def get_pandas_code_from_text(response):\n",
    "    if '```python' not in response:\n",
    "        return response.strip()\n",
    "    elif '```python' in response:\n",
    "        response = response.split('```python')[-1]\n",
    "        response = response.split('```')[0]\n",
    "        response = response.strip()\n",
    "        return response\n",
    "    else:\n",
    "        return None"
   ]
  },
  {
   "cell_type": "code",
   "execution_count": null,
   "id": "ba3e4c42-907b-436e-8c8a-e833af8483cd",
   "metadata": {},
   "outputs": [],
   "source": []
  },
  {
   "cell_type": "code",
   "execution_count": 83,
   "id": "0f4c2cde-58e0-4749-bab9-1b0bb8821665",
   "metadata": {},
   "outputs": [],
   "source": [
    "def get_pandas_agent_prompt(question, df_filepaths, resulting_fig_filepath, resulting_csv_filepath):\n",
    "    sample_rows_prompt = \"Dataframe first 2 rows for csv filepath is given below: \"\n",
    "    \n",
    "    for df_filepath in df_filepaths:\n",
    "        df = pd.read_csv(df_filepath)\n",
    "        df_md = df.head(2).to_markdown()\n",
    "        _template = f\"\"\"\n",
    "        \n",
    "        For csv file path '{df_filepath}' it's first 2 rows as pandas dataframe in markdown format as follow:\n",
    "        {df_md}\n",
    "        \n",
    "        \"\"\"\n",
    "        sample_rows_prompt = sample_rows_prompt + _template\n",
    "\n",
    "    sample_rows_prompt = sample_rows_prompt.strip()\n",
    "    \n",
    "    template = f\"\"\"\\\n",
    "    Given the user question, create syntatically correct python code to answer the user question.\n",
    "    \n",
    "    User question is as follow:\n",
    "    {question}\n",
    "\n",
    "    CSV file paths and their sample rows that could help answer the user question are as follow:\n",
    "    {sample_rows_prompt}\n",
    "    \n",
    "    Strictly follow the following rules while generating python code to answer the user question.\n",
    "    \n",
    "    1. Always convert date or datetime or timestamp field if present any to datetime field for consistency using pd.to_datetime()\n",
    "    2. Always do the following steps for NaN values as preprocessing step.\n",
    "        2.1 Fill NaNs value using df.ffill(inplace=True) and then\n",
    "        2.2 Use df.dropna(inplace=True) to drop if any NaNs present after ffill\n",
    "        statements 2.1 and 2.2 can also be applied to the final dataframe obtained after certain analysis to remove any NaNs from the resulting dataframe.\n",
    "    3. Always double check if necessary libraries are imported for example code might have used np but import numpy as np might missing from code.\n",
    "    4. Please use latest version pandas code so that there will be no issue like depreciated warnings.\n",
    "    5. Always double check if the dataframe column names as well as the variable names in python code are properly defined so that python code generated will not raise error during code execution.\n",
    "    6. If question is asking for plotting graphs then only include plotting code otherwise do not include plotting code in the generated code, follow below rules for plotting\n",
    "        6.1 Always use matplotlib or seaborn for plotting\n",
    "        6.2 Always save the plotting to provided figure filepath which is '{resulting_fig_filepath}' in png format.\n",
    "    7. At last always save the final resulting dataframe obtained after some data analysis to new csv file in filepath: '{resulting_csv_filepath}' and also limit floating point number upto 2 precisions.\n",
    "    \n",
    "    Do not try generate csv filepaths on your own; you are only limited to use csv filepath provided in context above as filepath and sample dataframe rows.\n",
    "    \n",
    "    Always give full executable python code as your Final Answer;\n",
    "    \n",
    "    NO POSTAMBLE i.e. do no add any text content after python code blocks.\n",
    "    \n",
    "    Always give a print statement at the last line of generated python code saying \"Python code provided above will give answer to the user question\" and \\\n",
    "    if the agent observation is the above print statement then code was executed successfully so you can give your Final Answer which is the python code as it is.\n",
    "    \n",
    "    Follow the format below for python agent:\n",
    "    \n",
    "    Observation: Result/Error of python code execution\n",
    "    Thought: Here is the python code to answer the user question\n",
    "    Action: python_repl_ast\n",
    "    Action Input:\n",
    "    ```python\n",
    "    # python code to answer user question\n",
    "    ```\n",
    "        \n",
    "    Final Answer: ```python\n",
    "\n",
    "    \n",
    "    \"\"\"\n",
    "    return template"
   ]
  },
  {
   "cell_type": "code",
   "execution_count": null,
   "id": "9dac140e-0bff-459c-b71c-b5c17292d1c7",
   "metadata": {},
   "outputs": [],
   "source": []
  },
  {
   "cell_type": "code",
   "execution_count": 84,
   "id": "e82a1cc7-b3f8-497b-9efb-acb30949980a",
   "metadata": {},
   "outputs": [],
   "source": [
    "def execute_pandas_agent_chain(question, uuid_str, df_filepaths=[]):\n",
    "    resulting_fig_filepath = f\"/tmp/{uuid_str}.png\"\n",
    "    resulting_csv_filepath = f\"/tmp/{uuid_str}.csv\"\n",
    "    \n",
    "    pandas_agent_prompt = get_pandas_agent_prompt(\n",
    "        question, \n",
    "        df_filepaths,\n",
    "        resulting_fig_filepath,\n",
    "        resulting_csv_filepath\n",
    "    )\n",
    "    response = code_executor.invoke(pandas_agent_prompt)\n",
    "    python_code = get_pandas_code_from_text(response['output'])\n",
    "    print(\"\\n\\nPython code is ::: \\n\\n\", python_code)\n",
    "    return python_code, resulting_csv_filepath, resulting_fig_filepath"
   ]
  },
  {
   "cell_type": "code",
   "execution_count": null,
   "id": "07bd0231-defa-42ce-9656-53c780622147",
   "metadata": {},
   "outputs": [],
   "source": []
  },
  {
   "cell_type": "code",
   "execution_count": 85,
   "id": "0c6beb33-452f-43c8-9e86-e14f09740a28",
   "metadata": {},
   "outputs": [],
   "source": [
    "import uuid"
   ]
  },
  {
   "cell_type": "code",
   "execution_count": null,
   "id": "338c7c27-a346-4a4b-b868-b2ae1fab45bf",
   "metadata": {},
   "outputs": [],
   "source": []
  },
  {
   "cell_type": "code",
   "execution_count": 86,
   "id": "9c75552f-0632-4e76-b29e-863ea7180466",
   "metadata": {},
   "outputs": [],
   "source": [
    "question = \"What was the labor force participation rate in Maryland in January 2007, and how many people were employed?\"\n",
    "uuid_str = uuid.uuid4()\n",
    "df_filepaths = csv_file_path_chain_response[\"csv_file_paths\"]"
   ]
  },
  {
   "cell_type": "code",
   "execution_count": null,
   "id": "f90cef62-904c-44c3-af7a-cdaafe5b70d1",
   "metadata": {},
   "outputs": [],
   "source": []
  },
  {
   "cell_type": "code",
   "execution_count": 87,
   "id": "ab96c48f-002a-4515-9579-e9395a061747",
   "metadata": {
    "scrolled": true
   },
   "outputs": [
    {
     "name": "stdout",
     "output_type": "stream",
     "text": [
      "\n",
      "\n",
      "\u001b[1m> Entering new AgentExecutor chain...\u001b[0m\n",
      "\u001b[32;1m\u001b[1;3mTo answer the user's question about the labor force participation rate in Maryland in January 2007 and the number of people employed, I'll need to write Python code to read the CSV file, process the data, and extract the required information. Here's the code to do that:\n",
      "\n",
      "Action: python_repl_ast\n",
      "Action Input:\n",
      "```python\n",
      "import pandas as pd\n",
      "import numpy as np\n",
      "\n",
      "# Read the CSV file\n",
      "df = pd.read_csv('./datasets/Employment_Unemployment_and_Labor_Force_Data.csv')\n",
      "\n",
      "# Convert Date to datetime\n",
      "df['Date'] = pd.to_datetime(df['Date'])\n",
      "\n",
      "# Fill NaN values and drop any remaining NaNs\n",
      "df.ffill(inplace=True)\n",
      "df.dropna(inplace=True)\n",
      "\n",
      "# Filter data for January 2007\n",
      "jan_2007 = df[(df['Year'] == 2007) & (df['Month'] == 1)]\n",
      "\n",
      "# Extract required information\n",
      "labor_force_participation_rate = jan_2007['Labor Force Participation Rate'].values[0]\n",
      "employed = jan_2007['Employed'].values[0]\n",
      "\n",
      "# Print the results\n",
      "print(f\"Labor Force Participation Rate in Maryland in January 2007: {labor_force_participation_rate:.2f}%\")\n",
      "print(f\"Number of people employed in Maryland in January 2007: {employed:,.0f}\")\n",
      "\n",
      "# Save the results to a CSV file\n",
      "result_df = pd.DataFrame({\n",
      "    'Metric': ['Labor Force Participation Rate', 'Employed'],\n",
      "    'Value': [labor_force_participation_rate, employed]\n",
      "})\n",
      "result_df.to_csv('/tmp/3fc1ee67-6d99-4358-aa4f-483c74f6b2e4.csv', index=False, float_format='%.2f')\n",
      "\n",
      "print(\"Python code provided above will give answer to the user question\")\n",
      "```\n",
      "\u001b[0mLabor Force Participation Rate in Maryland in January 2007: 69.00%\n",
      "Number of people employed in Maryland in January 2007: 2,864,870\n",
      "\n",
      "Observation: \u001b[36;1m\u001b[1;3mPython code provided above will give answer to the user question\n",
      "\u001b[0m\n",
      "Thought:"
     ]
    },
    {
     "name": "stderr",
     "output_type": "stream",
     "text": [
      "<string>:4: UserWarning: Could not infer format, so each element will be parsed individually, falling back to `dateutil`. To ensure parsing is consistent and as-expected, please specify a format.\n"
     ]
    },
    {
     "name": "stdout",
     "output_type": "stream",
     "text": [
      "\u001b[32;1m\u001b[1;3mThe Python code has been executed successfully, and it provides the answer to the user's question. Here's the final answer:\n",
      "\n",
      "Final Answer: ```python\n",
      "import pandas as pd\n",
      "import numpy as np\n",
      "\n",
      "# Read the CSV file\n",
      "df = pd.read_csv('./datasets/Employment_Unemployment_and_Labor_Force_Data.csv')\n",
      "\n",
      "# Convert Date to datetime\n",
      "df['Date'] = pd.to_datetime(df['Date'])\n",
      "\n",
      "# Fill NaN values and drop any remaining NaNs\n",
      "df.ffill(inplace=True)\n",
      "df.dropna(inplace=True)\n",
      "\n",
      "# Filter data for January 2007\n",
      "jan_2007 = df[(df['Year'] == 2007) & (df['Month'] == 1)]\n",
      "\n",
      "# Extract required information\n",
      "labor_force_participation_rate = jan_2007['Labor Force Participation Rate'].values[0]\n",
      "employed = jan_2007['Employed'].values[0]\n",
      "\n",
      "# Print the results\n",
      "print(f\"Labor Force Participation Rate in Maryland in January 2007: {labor_force_participation_rate:.2f}%\")\n",
      "print(f\"Number of people employed in Maryland in January 2007: {employed:,.0f}\")\n",
      "\n",
      "# Save the results to a CSV file\n",
      "result_df = pd.DataFrame({\n",
      "    'Metric': ['Labor Force Participation Rate', 'Employed'],\n",
      "    'Value': [labor_force_participation_rate, employed]\n",
      "})\n",
      "result_df.to_csv('/tmp/3fc1ee67-6d99-4358-aa4f-483c74f6b2e4.csv', index=False, float_format='%.2f')\n",
      "\n",
      "print(\"Python code provided above will give answer to the user question\")\n",
      "```\u001b[0m\n",
      "\n",
      "\u001b[1m> Finished chain.\u001b[0m\n",
      "\n",
      "\n",
      "Python code is ::: \n",
      "\n",
      " import pandas as pd\n",
      "import numpy as np\n",
      "\n",
      "# Read the CSV file\n",
      "df = pd.read_csv('./datasets/Employment_Unemployment_and_Labor_Force_Data.csv')\n",
      "\n",
      "# Convert Date to datetime\n",
      "df['Date'] = pd.to_datetime(df['Date'])\n",
      "\n",
      "# Fill NaN values and drop any remaining NaNs\n",
      "df.ffill(inplace=True)\n",
      "df.dropna(inplace=True)\n",
      "\n",
      "# Filter data for January 2007\n",
      "jan_2007 = df[(df['Year'] == 2007) & (df['Month'] == 1)]\n",
      "\n",
      "# Extract required information\n",
      "labor_force_participation_rate = jan_2007['Labor Force Participation Rate'].values[0]\n",
      "employed = jan_2007['Employed'].values[0]\n",
      "\n",
      "# Print the results\n",
      "print(f\"Labor Force Participation Rate in Maryland in January 2007: {labor_force_participation_rate:.2f}%\")\n",
      "print(f\"Number of people employed in Maryland in January 2007: {employed:,.0f}\")\n",
      "\n",
      "# Save the results to a CSV file\n",
      "result_df = pd.DataFrame({\n",
      "    'Metric': ['Labor Force Participation Rate', 'Employed'],\n",
      "    'Value': [labor_force_participation_rate, employed]\n",
      "})\n",
      "result_df.to_csv('/tmp/3fc1ee67-6d99-4358-aa4f-483c74f6b2e4.csv', index=False, float_format='%.2f')\n",
      "\n",
      "print(\"Python code provided above will give answer to the user question\")\n"
     ]
    }
   ],
   "source": [
    "pandas_code, resulting_csv_filepath, resulting_fig_filepath = execute_pandas_agent_chain(\n",
    "    question,\n",
    "    uuid_str,\n",
    "    df_filepaths\n",
    ")"
   ]
  },
  {
   "cell_type": "code",
   "execution_count": 88,
   "id": "39546868-7d92-461b-93b5-28d08301d579",
   "metadata": {},
   "outputs": [
    {
     "name": "stdout",
     "output_type": "stream",
     "text": [
      "Metric,Value\n",
      "Labor Force Participation Rate,69.00\n",
      "Employed,2864870.00\n"
     ]
    }
   ],
   "source": [
    "!cat /tmp/3fc1ee67-6d99-4358-aa4f-483c74f6b2e4.csv"
   ]
  },
  {
   "cell_type": "code",
   "execution_count": null,
   "id": "c10e794f-2f25-4f19-b1eb-760cecf1e259",
   "metadata": {},
   "outputs": [],
   "source": []
  },
  {
   "cell_type": "code",
   "execution_count": 92,
   "id": "d76a9d66-5252-48a7-aaf3-fad4bfae31b8",
   "metadata": {},
   "outputs": [],
   "source": [
    "answer_prompt_template = \"\"\"\\\n",
    "You are provided with the user data question and resulting csv dataframe in markdown string for that user question.\n",
    "Please give answer for that question by analysing the result provided.\n",
    "\n",
    "User question is as follow:\n",
    "{question}\n",
    "\n",
    "Resulting csv file dataframe in markdown string is as follow:\n",
    "{df_md}\n",
    "\n",
    "Please use format specified below to give your final answer.\n",
    "{format_instructions}\n",
    "\n",
    "NO PREMABLE and NO POSTAMBLE\n",
    "\n",
    "Your Answer: \n",
    "\n",
    "\n",
    "\"\"\""
   ]
  },
  {
   "cell_type": "code",
   "execution_count": 93,
   "id": "64667e35-1621-436a-944c-cff83b3f56d6",
   "metadata": {},
   "outputs": [],
   "source": [
    "answer_schemas = [\n",
    "    ResponseSchema(\n",
    "        name=\"answer\", \n",
    "        description=\"Answer for the user question.\",\n",
    "        type=\"string\"\n",
    "    )\n",
    "]\n",
    "\n",
    "answer_parser = StructuredOutputParser.from_response_schemas(answer_schemas)\n",
    "\n",
    "answer_prompt = PromptTemplate(\n",
    "    template=answer_prompt_template,\n",
    "    input_variables=[\"question\", \"df_md\"],\n",
    "    partial_variables={\"format_instructions\": answer_parser.get_format_instructions()},\n",
    ")\n",
    "\n",
    "answer_chain = answer_prompt | bedrock_llm | answer_parser"
   ]
  },
  {
   "cell_type": "code",
   "execution_count": null,
   "id": "d5ca965c-1a7f-49ea-9207-4226c3215580",
   "metadata": {},
   "outputs": [],
   "source": []
  },
  {
   "cell_type": "code",
   "execution_count": 98,
   "id": "d2dd0c1c-c573-4bdd-a91c-78083b8d7a57",
   "metadata": {},
   "outputs": [],
   "source": [
    "def prepare_answer(question, resulting_csv_filepath):\n",
    "    df = pd.read_csv(resulting_csv_filepath)\n",
    "    df = df.head(25)\n",
    "    df_md = df.to_markdown(index=False)\n",
    "    \n",
    "    answer_chain_response = answer_chain.invoke({\n",
    "        \"question\": question,\n",
    "        \"df_md\": df_md\n",
    "    })\n",
    "    return answer_chain_response['answer']"
   ]
  },
  {
   "cell_type": "code",
   "execution_count": null,
   "id": "e8acf029-68b5-41f3-9d6c-d7bb8cfcdda5",
   "metadata": {},
   "outputs": [],
   "source": []
  },
  {
   "cell_type": "code",
   "execution_count": 99,
   "id": "4efcecc3-9817-4faf-a2ac-5d8a465826ec",
   "metadata": {},
   "outputs": [
    {
     "name": "stdout",
     "output_type": "stream",
     "text": [
      "In January 2007, the labor force participation rate in Maryland was 69%. At that time, approximately 2,864,870 people were employed in the state.\n"
     ]
    }
   ],
   "source": [
    "answer = prepare_answer(\n",
    "    question,\n",
    "    \"/tmp/3fc1ee67-6d99-4358-aa4f-483c74f6b2e4.csv\"\n",
    ")\n",
    "print(answer)"
   ]
  },
  {
   "cell_type": "code",
   "execution_count": null,
   "id": "cf914ff3-23bd-4977-9d77-05f52c26fd6f",
   "metadata": {},
   "outputs": [],
   "source": []
  },
  {
   "cell_type": "code",
   "execution_count": null,
   "id": "6c3c131b-4811-49f4-8a00-351e65a22d86",
   "metadata": {},
   "outputs": [],
   "source": []
  },
  {
   "cell_type": "code",
   "execution_count": 100,
   "id": "e02a1418-6f76-4b9a-80af-65fb194a5134",
   "metadata": {
    "scrolled": true
   },
   "outputs": [
    {
     "name": "stdout",
     "output_type": "stream",
     "text": [
      "\n",
      "\n",
      "\u001b[1m> Entering new AgentExecutor chain...\u001b[0m\n",
      "\u001b[32;1m\u001b[1;3mTo answer the user's question about Maryland's unemployment rate change from January 2007 to February 2007 and show it in a graph, I'll need to write Python code that reads the CSV file, processes the data, calculates the change in unemployment rate, and creates a graph. Here's the code to do that:\n",
      "\n",
      "Action: python_repl_ast\n",
      "Action Input:\n",
      "```python\n",
      "import pandas as pd\n",
      "import matplotlib.pyplot as plt\n",
      "\n",
      "# Read the CSV file\n",
      "df = pd.read_csv('./datasets/Employment_Unemployment_and_Labor_Force_Data.csv')\n",
      "\n",
      "# Convert Date to datetime\n",
      "df['Date'] = pd.to_datetime(df['Date'])\n",
      "\n",
      "# Fill NaN values and drop any remaining NaNs\n",
      "df.ffill(inplace=True)\n",
      "df.dropna(inplace=True)\n",
      "\n",
      "# Filter data for January and February 2007\n",
      "df_filtered = df[(df['Date'].dt.year == 2007) & (df['Date'].dt.month.isin([1, 2]))]\n",
      "\n",
      "# Calculate the change in unemployment rate\n",
      "jan_rate = df_filtered[df_filtered['Date'].dt.month == 1]['Unemployment Rate'].values[0]\n",
      "feb_rate = df_filtered[df_filtered['Date'].dt.month == 2]['Unemployment Rate'].values[0]\n",
      "rate_change = feb_rate - jan_rate\n",
      "\n",
      "# Create a bar plot\n",
      "plt.figure(figsize=(10, 6))\n",
      "plt.bar(['January 2007', 'February 2007'], [jan_rate, feb_rate])\n",
      "plt.title(\"Maryland's Unemployment Rate: January vs February 2007\")\n",
      "plt.ylabel('Unemployment Rate (%)')\n",
      "plt.ylim(0, max(jan_rate, feb_rate) + 0.5)\n",
      "\n",
      "# Add text labels on the bars\n",
      "for i, rate in enumerate([jan_rate, feb_rate]):\n",
      "    plt.text(i, rate, f'{rate:.1f}%', ha='center', va='bottom')\n",
      "\n",
      "# Save the plot\n",
      "plt.savefig('/tmp/81e72c77-8765-48b2-8ed5-668042aecc4a.png')\n",
      "\n",
      "# Prepare the result dataframe\n",
      "result_df = pd.DataFrame({\n",
      "    'Month': ['January 2007', 'February 2007'],\n",
      "    'Unemployment Rate': [jan_rate, feb_rate]\n",
      "})\n",
      "result_df['Unemployment Rate'] = result_df['Unemployment Rate'].round(2)\n",
      "\n",
      "# Save the result to CSV\n",
      "result_df.to_csv('/tmp/81e72c77-8765-48b2-8ed5-668042aecc4a.csv', index=False)\n",
      "\n",
      "print(f\"Maryland's unemployment rate changed by {rate_change:.2f} percentage points from January 2007 to February 2007.\")\n",
      "print(\"The graph has been saved to '/tmp/81e72c77-8765-48b2-8ed5-668042aecc4a.png'\")\n",
      "print(\"The result data has been saved to '/tmp/81e72c77-8765-48b2-8ed5-668042aecc4a.csv'\")\n",
      "print(\"Python code provided above will give answer to the user question\")\n",
      "```\n",
      "\u001b[0mMaryland's unemployment rate changed by -0.10 percentage points from January 2007 to February 2007.\n",
      "The graph has been saved to '/tmp/81e72c77-8765-48b2-8ed5-668042aecc4a.png'\n",
      "The result data has been saved to '/tmp/81e72c77-8765-48b2-8ed5-668042aecc4a.csv'\n",
      "\n",
      "Observation: \u001b[36;1m\u001b[1;3mPython code provided above will give answer to the user question\n",
      "\u001b[0m\n",
      "Thought:"
     ]
    },
    {
     "name": "stderr",
     "output_type": "stream",
     "text": [
      "<string>:4: UserWarning: Could not infer format, so each element will be parsed individually, falling back to `dateutil`. To ensure parsing is consistent and as-expected, please specify a format.\n"
     ]
    },
    {
     "name": "stdout",
     "output_type": "stream",
     "text": [
      "\u001b[32;1m\u001b[1;3mThe Python code has been executed successfully, and it provides the answer to the user's question. Here's the final answer:\n",
      "\n",
      "Final Answer: ```python\n",
      "import pandas as pd\n",
      "import matplotlib.pyplot as plt\n",
      "\n",
      "# Read the CSV file\n",
      "df = pd.read_csv('./datasets/Employment_Unemployment_and_Labor_Force_Data.csv')\n",
      "\n",
      "# Convert Date to datetime\n",
      "df['Date'] = pd.to_datetime(df['Date'])\n",
      "\n",
      "# Fill NaN values and drop any remaining NaNs\n",
      "df.ffill(inplace=True)\n",
      "df.dropna(inplace=True)\n",
      "\n",
      "# Filter data for January and February 2007\n",
      "df_filtered = df[(df['Date'].dt.year == 2007) & (df['Date'].dt.month.isin([1, 2]))]\n",
      "\n",
      "# Calculate the change in unemployment rate\n",
      "jan_rate = df_filtered[df_filtered['Date'].dt.month == 1]['Unemployment Rate'].values[0]\n",
      "feb_rate = df_filtered[df_filtered['Date'].dt.month == 2]['Unemployment Rate'].values[0]\n",
      "rate_change = feb_rate - jan_rate\n",
      "\n",
      "# Create a bar plot\n",
      "plt.figure(figsize=(10, 6))\n",
      "plt.bar(['January 2007', 'February 2007'], [jan_rate, feb_rate])\n",
      "plt.title(\"Maryland's Unemployment Rate: January vs February 2007\")\n",
      "plt.ylabel('Unemployment Rate (%)')\n",
      "plt.ylim(0, max(jan_rate, feb_rate) + 0.5)\n",
      "\n",
      "# Add text labels on the bars\n",
      "for i, rate in enumerate([jan_rate, feb_rate]):\n",
      "    plt.text(i, rate, f'{rate:.1f}%', ha='center', va='bottom')\n",
      "\n",
      "# Save the plot\n",
      "plt.savefig('/tmp/81e72c77-8765-48b2-8ed5-668042aecc4a.png')\n",
      "\n",
      "# Prepare the result dataframe\n",
      "result_df = pd.DataFrame({\n",
      "    'Month': ['January 2007', 'February 2007'],\n",
      "    'Unemployment Rate': [jan_rate, feb_rate]\n",
      "})\n",
      "result_df['Unemployment Rate'] = result_df['Unemployment Rate'].round(2)\n",
      "\n",
      "# Save the result to CSV\n",
      "result_df.to_csv('/tmp/81e72c77-8765-48b2-8ed5-668042aecc4a.csv', index=False)\n",
      "\n",
      "print(f\"Maryland's unemployment rate changed by {rate_change:.2f} percentage points from January 2007 to February 2007.\")\n",
      "print(\"The graph has been saved to '/tmp/81e72c77-8765-48b2-8ed5-668042aecc4a.png'\")\n",
      "print(\"The result data has been saved to '/tmp/81e72c77-8765-48b2-8ed5-668042aecc4a.csv'\")\n",
      "print(\"Python code provided above will give answer to the user question\")\n",
      "```\u001b[0m\n",
      "\n",
      "\u001b[1m> Finished chain.\u001b[0m\n",
      "\n",
      "\n",
      "Python code is ::: \n",
      "\n",
      " import pandas as pd\n",
      "import matplotlib.pyplot as plt\n",
      "\n",
      "# Read the CSV file\n",
      "df = pd.read_csv('./datasets/Employment_Unemployment_and_Labor_Force_Data.csv')\n",
      "\n",
      "# Convert Date to datetime\n",
      "df['Date'] = pd.to_datetime(df['Date'])\n",
      "\n",
      "# Fill NaN values and drop any remaining NaNs\n",
      "df.ffill(inplace=True)\n",
      "df.dropna(inplace=True)\n",
      "\n",
      "# Filter data for January and February 2007\n",
      "df_filtered = df[(df['Date'].dt.year == 2007) & (df['Date'].dt.month.isin([1, 2]))]\n",
      "\n",
      "# Calculate the change in unemployment rate\n",
      "jan_rate = df_filtered[df_filtered['Date'].dt.month == 1]['Unemployment Rate'].values[0]\n",
      "feb_rate = df_filtered[df_filtered['Date'].dt.month == 2]['Unemployment Rate'].values[0]\n",
      "rate_change = feb_rate - jan_rate\n",
      "\n",
      "# Create a bar plot\n",
      "plt.figure(figsize=(10, 6))\n",
      "plt.bar(['January 2007', 'February 2007'], [jan_rate, feb_rate])\n",
      "plt.title(\"Maryland's Unemployment Rate: January vs February 2007\")\n",
      "plt.ylabel('Unemployment Rate (%)')\n",
      "plt.ylim(0, max(jan_rate, feb_rate) + 0.5)\n",
      "\n",
      "# Add text labels on the bars\n",
      "for i, rate in enumerate([jan_rate, feb_rate]):\n",
      "    plt.text(i, rate, f'{rate:.1f}%', ha='center', va='bottom')\n",
      "\n",
      "# Save the plot\n",
      "plt.savefig('/tmp/81e72c77-8765-48b2-8ed5-668042aecc4a.png')\n",
      "\n",
      "# Prepare the result dataframe\n",
      "result_df = pd.DataFrame({\n",
      "    'Month': ['January 2007', 'February 2007'],\n",
      "    'Unemployment Rate': [jan_rate, feb_rate]\n",
      "})\n",
      "result_df['Unemployment Rate'] = result_df['Unemployment Rate'].round(2)\n",
      "\n",
      "# Save the result to CSV\n",
      "result_df.to_csv('/tmp/81e72c77-8765-48b2-8ed5-668042aecc4a.csv', index=False)\n",
      "\n",
      "print(f\"Maryland's unemployment rate changed by {rate_change:.2f} percentage points from January 2007 to February 2007.\")\n",
      "print(\"The graph has been saved to '/tmp/81e72c77-8765-48b2-8ed5-668042aecc4a.png'\")\n",
      "print(\"The result data has been saved to '/tmp/81e72c77-8765-48b2-8ed5-668042aecc4a.csv'\")\n",
      "print(\"Python code provided above will give answer to the user question\")\n"
     ]
    },
    {
     "data": {
      "image/png": "[encoded data removed]",
      "text/plain": [
       "<Figure size 1000x600 with 1 Axes>"
      ]
     },
     "metadata": {},
     "output_type": "display_data"
    }
   ],
   "source": [
    "question = \"How did Maryland's unemployment rate change from January 2007 to February 2007? Also show in graph as well\"\n",
    "uuid_str = uuid.uuid4()\n",
    "df_filepaths = csv_file_path_chain_response[\"csv_file_paths\"]\n",
    "\n",
    "pandas_code, resulting_csv_filepath, resulting_fig_filepath = execute_pandas_agent_chain(\n",
    "    question,\n",
    "    uuid_str,\n",
    "    df_filepaths\n",
    ")"
   ]
  },
  {
   "cell_type": "code",
   "execution_count": 101,
   "id": "94e34f09-1593-4021-830a-106f224f548b",
   "metadata": {},
   "outputs": [
    {
     "name": "stdout",
     "output_type": "stream",
     "text": [
      "Month,Unemployment Rate\n",
      "January 2007,3.7\n",
      "February 2007,3.6\n"
     ]
    }
   ],
   "source": [
    "!cat /tmp/81e72c77-8765-48b2-8ed5-668042aecc4a.csv"
   ]
  },
  {
   "cell_type": "code",
   "execution_count": 102,
   "id": "fe5f541a-0027-4901-91c5-19c245c45290",
   "metadata": {},
   "outputs": [
    {
     "name": "stdout",
     "output_type": "stream",
     "text": [
      "Maryland's unemployment rate decreased from 3.7% in January 2007 to 3.6% in February 2007, a drop of 0.1 percentage points. Here is a simple graph to visualize the change:\n",
      "\n",
      "```\n",
      "3.7% |  *\n",
      "3.6% |     *\n",
      "     |-------------\n",
      "      Jan   Feb 2007\n",
      "```\n",
      "\n",
      "This graph shows the slight downward trend in unemployment rate from January to February 2007 in Maryland.\n"
     ]
    }
   ],
   "source": [
    "answer = prepare_answer(\n",
    "    question,\n",
    "    \"/tmp/81e72c77-8765-48b2-8ed5-668042aecc4a.csv\"\n",
    ")\n",
    "print(answer)"
   ]
  },
  {
   "cell_type": "code",
   "execution_count": null,
   "id": "534ade1e-5d0e-4c76-8c31-09b2bd07b9f2",
   "metadata": {},
   "outputs": [],
   "source": []
  },
  {
   "cell_type": "code",
   "execution_count": null,
   "id": "8734225a-aa32-46d4-a62f-2f853cbef6da",
   "metadata": {},
   "outputs": [],
   "source": []
  },
  {
   "cell_type": "code",
   "execution_count": null,
   "id": "e47e9029-6777-42fa-9ccf-c599db3c572e",
   "metadata": {},
   "outputs": [],
   "source": []
  },
  {
   "cell_type": "code",
   "execution_count": null,
   "id": "d8d491e8-f229-4298-83e1-71a41f31085d",
   "metadata": {},
   "outputs": [],
   "source": []
  }
 ],
 "metadata": {
  "kernelspec": {
   "display_name": "Python 3 (ipykernel)",
   "language": "python",
   "name": "python3"
  },
  "language_info": {
   "codemirror_mode": {
    "name": "ipython",
    "version": 3
   },
   "file_extension": ".py",
   "mimetype": "text/x-python",
   "name": "python",
   "nbconvert_exporter": "python",
   "pygments_lexer": "ipython3",
   "version": "3.11.7"
  }
 },
 "nbformat": 4,
 "nbformat_minor": 5
}
